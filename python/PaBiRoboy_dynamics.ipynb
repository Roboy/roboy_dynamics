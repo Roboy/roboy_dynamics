{
 "cells": [
  {
   "cell_type": "markdown",
   "metadata": {},
   "source": [
    "# PaBiRoboy dynamic equations"
   ]
  },
  {
   "cell_type": "markdown",
   "metadata": {},
   "source": [
    "First, import the necessary functions from SymPy that will allow us to construct time varying vectors in the reference frames."
   ]
  },
  {
   "cell_type": "code",
   "execution_count": 1,
   "metadata": {
    "collapsed": true
   },
   "outputs": [],
   "source": [
    "from __future__ import print_function, division\n",
    "from sympy import symbols, simplify, Matrix\n",
    "from sympy import trigsimp\n",
    "from sympy.physics.mechanics import dynamicsymbols, ReferenceFrame, Point, Particle, inertia, RigidBody, KanesMethod\n",
    "from numpy import deg2rad, rad2deg, array, zeros, linspace\n",
    "from sympy.physics.vector import init_vprinting, vlatex\n",
    "import numpy as np\n",
    "from scipy.integrate import odeint\n",
    "from sympy.utilities.codegen import codegen\n",
    "from pydy.codegen.ode_function_generators import generate_ode_function\n",
    "from matplotlib.pyplot import plot, legend, xlabel, ylabel, rcParams\n",
    "rcParams['figure.figsize'] = (14.0, 6.0)"
   ]
  },
  {
   "cell_type": "markdown",
   "metadata": {},
   "source": [
    "SymPy has a rich printing system. Here we initialize printing so that all of the mathematical equations are rendered in standard mathematical notation."
   ]
  },
  {
   "cell_type": "code",
   "execution_count": 2,
   "metadata": {
    "collapsed": true
   },
   "outputs": [],
   "source": [
    "from sympy.physics.vector import init_vprinting\n",
    "init_vprinting(use_latex='mathjax', pretty_print=False)"
   ]
  },
  {
   "cell_type": "markdown",
   "metadata": {},
   "source": [
    "## Interial frames"
   ]
  },
  {
   "cell_type": "code",
   "execution_count": 3,
   "metadata": {
    "collapsed": true
   },
   "outputs": [],
   "source": [
    "inertial_frame = ReferenceFrame('I')\n",
    "lower_leg_left_frame = ReferenceFrame('R_1')\n",
    "upper_leg_left_frame = ReferenceFrame('R_2')\n",
    "hip_frame = ReferenceFrame('R_3')\n",
    "upper_leg_right_frame = ReferenceFrame('R_4')\n",
    "lower_leg_right_frame = ReferenceFrame('R_5')"
   ]
  },
  {
   "cell_type": "markdown",
   "metadata": {},
   "source": [
    "## Angles"
   ]
  },
  {
   "cell_type": "code",
   "execution_count": 4,
   "metadata": {
    "collapsed": true
   },
   "outputs": [],
   "source": [
    "theta0, theta1, theta2, theta3, phi = dynamicsymbols('theta0, theta1, theta2, theta3, phi')"
   ]
  },
  {
   "cell_type": "code",
   "execution_count": 5,
   "metadata": {},
   "outputs": [
    {
     "data": {
      "text/latex": [
       "$$\\left[\\begin{matrix}\\operatorname{cos}\\left(\\phi\\right) & \\operatorname{sin}\\left(\\phi\\right) & 0\\\\- \\operatorname{sin}\\left(\\phi\\right) & \\operatorname{cos}\\left(\\phi\\right) & 0\\\\0 & 0 & 1\\end{matrix}\\right]$$"
      ],
      "text/plain": [
       "Matrix([\n",
       "[ cos(phi), sin(phi), 0],\n",
       "[-sin(phi), cos(phi), 0],\n",
       "[        0,        0, 1]])"
      ]
     },
     "execution_count": 5,
     "metadata": {},
     "output_type": "execute_result"
    }
   ],
   "source": [
    "lower_leg_left_frame.orient(inertial_frame, 'Axis', (phi, inertial_frame.z))\n",
    "simplify(lower_leg_left_frame.dcm(inertial_frame))"
   ]
  },
  {
   "cell_type": "code",
   "execution_count": 6,
   "metadata": {},
   "outputs": [
    {
     "data": {
      "text/latex": [
       "$$\\left[\\begin{matrix}\\operatorname{cos}\\left(\\phi - \\theta_{0}\\right) & \\operatorname{sin}\\left(\\phi - \\theta_{0}\\right) & 0\\\\- \\operatorname{sin}\\left(\\phi - \\theta_{0}\\right) & \\operatorname{cos}\\left(\\phi - \\theta_{0}\\right) & 0\\\\0 & 0 & 1\\end{matrix}\\right]$$"
      ],
      "text/plain": [
       "Matrix([\n",
       "[ cos(phi - theta0), sin(phi - theta0), 0],\n",
       "[-sin(phi - theta0), cos(phi - theta0), 0],\n",
       "[                 0,                 0, 1]])"
      ]
     },
     "execution_count": 6,
     "metadata": {},
     "output_type": "execute_result"
    }
   ],
   "source": [
    "upper_leg_left_frame.orient(lower_leg_left_frame, 'Axis', (theta0, -lower_leg_left_frame.z))\n",
    "simplify(upper_leg_left_frame.dcm(inertial_frame))"
   ]
  },
  {
   "cell_type": "code",
   "execution_count": 7,
   "metadata": {},
   "outputs": [
    {
     "data": {
      "text/latex": [
       "$$\\left[\\begin{matrix}\\left(- \\operatorname{sin}\\left(\\theta_{0}\\right) \\operatorname{sin}\\left(\\theta_{1}\\right) + \\operatorname{cos}\\left(\\theta_{0}\\right) \\operatorname{cos}\\left(\\theta_{1}\\right)\\right) \\operatorname{cos}\\left(\\phi\\right) - \\left(- \\operatorname{sin}\\left(\\theta_{0}\\right) \\operatorname{cos}\\left(\\theta_{1}\\right) - \\operatorname{sin}\\left(\\theta_{1}\\right) \\operatorname{cos}\\left(\\theta_{0}\\right)\\right) \\operatorname{sin}\\left(\\phi\\right) & \\left(- \\operatorname{sin}\\left(\\theta_{0}\\right) \\operatorname{sin}\\left(\\theta_{1}\\right) + \\operatorname{cos}\\left(\\theta_{0}\\right) \\operatorname{cos}\\left(\\theta_{1}\\right)\\right) \\operatorname{sin}\\left(\\phi\\right) + \\left(- \\operatorname{sin}\\left(\\theta_{0}\\right) \\operatorname{cos}\\left(\\theta_{1}\\right) - \\operatorname{sin}\\left(\\theta_{1}\\right) \\operatorname{cos}\\left(\\theta_{0}\\right)\\right) \\operatorname{cos}\\left(\\phi\\right) & 0\\\\- \\left(- \\operatorname{sin}\\left(\\theta_{0}\\right) \\operatorname{sin}\\left(\\theta_{1}\\right) + \\operatorname{cos}\\left(\\theta_{0}\\right) \\operatorname{cos}\\left(\\theta_{1}\\right)\\right) \\operatorname{sin}\\left(\\phi\\right) + \\left(\\operatorname{sin}\\left(\\theta_{0}\\right) \\operatorname{cos}\\left(\\theta_{1}\\right) + \\operatorname{sin}\\left(\\theta_{1}\\right) \\operatorname{cos}\\left(\\theta_{0}\\right)\\right) \\operatorname{cos}\\left(\\phi\\right) & \\left(- \\operatorname{sin}\\left(\\theta_{0}\\right) \\operatorname{sin}\\left(\\theta_{1}\\right) + \\operatorname{cos}\\left(\\theta_{0}\\right) \\operatorname{cos}\\left(\\theta_{1}\\right)\\right) \\operatorname{cos}\\left(\\phi\\right) + \\left(\\operatorname{sin}\\left(\\theta_{0}\\right) \\operatorname{cos}\\left(\\theta_{1}\\right) + \\operatorname{sin}\\left(\\theta_{1}\\right) \\operatorname{cos}\\left(\\theta_{0}\\right)\\right) \\operatorname{sin}\\left(\\phi\\right) & 0\\\\0 & 0 & 1\\end{matrix}\\right]$$"
      ],
      "text/plain": [
       "Matrix([\n",
       "[(-sin(theta0)*sin(theta1) + cos(theta0)*cos(theta1))*cos(phi) - (-sin(theta0)*cos(theta1) - sin(theta1)*cos(theta0))*sin(phi), (-sin(theta0)*sin(theta1) + cos(theta0)*cos(theta1))*sin(phi) + (-sin(theta0)*cos(theta1) - sin(theta1)*cos(theta0))*cos(phi), 0],\n",
       "[-(-sin(theta0)*sin(theta1) + cos(theta0)*cos(theta1))*sin(phi) + (sin(theta0)*cos(theta1) + sin(theta1)*cos(theta0))*cos(phi),  (-sin(theta0)*sin(theta1) + cos(theta0)*cos(theta1))*cos(phi) + (sin(theta0)*cos(theta1) + sin(theta1)*cos(theta0))*sin(phi), 0],\n",
       "[                                                                                                                            0,                                                                                                                             0, 1]])"
      ]
     },
     "execution_count": 7,
     "metadata": {},
     "output_type": "execute_result"
    }
   ],
   "source": [
    "hip_frame.orient(upper_leg_left_frame, 'Axis', (theta1, -upper_leg_left_frame.z))\n",
    "hip_frame.dcm(inertial_frame)"
   ]
  },
  {
   "cell_type": "code",
   "execution_count": 8,
   "metadata": {},
   "outputs": [
    {
     "data": {
      "text/latex": [
       "$$\\left[\\begin{matrix}\\operatorname{cos}\\left(- \\phi + \\theta_{0} + \\theta_{1} + \\theta_{2}\\right) & - \\operatorname{sin}\\left(- \\phi + \\theta_{0} + \\theta_{1} + \\theta_{2}\\right) & 0\\\\\\operatorname{sin}\\left(- \\phi + \\theta_{0} + \\theta_{1} + \\theta_{2}\\right) & \\operatorname{cos}\\left(- \\phi + \\theta_{0} + \\theta_{1} + \\theta_{2}\\right) & 0\\\\0 & 0 & 1\\end{matrix}\\right]$$"
      ],
      "text/plain": [
       "Matrix([\n",
       "[cos(-phi + theta0 + theta1 + theta2), -sin(-phi + theta0 + theta1 + theta2), 0],\n",
       "[sin(-phi + theta0 + theta1 + theta2),  cos(-phi + theta0 + theta1 + theta2), 0],\n",
       "[                                   0,                                     0, 1]])"
      ]
     },
     "execution_count": 8,
     "metadata": {},
     "output_type": "execute_result"
    }
   ],
   "source": [
    "upper_leg_right_frame.orient(hip_frame, 'Axis', (theta2, -hip_frame.z))\n",
    "simplify(upper_leg_right_frame.dcm(inertial_frame))"
   ]
  },
  {
   "cell_type": "code",
   "execution_count": 9,
   "metadata": {},
   "outputs": [
    {
     "data": {
      "text/latex": [
       "$$\\left[\\begin{matrix}\\operatorname{cos}\\left(- \\phi + \\theta_{0} + \\theta_{1} + \\theta_{2} + \\theta_{3}\\right) & - \\operatorname{sin}\\left(- \\phi + \\theta_{0} + \\theta_{1} + \\theta_{2} + \\theta_{3}\\right) & 0\\\\\\operatorname{sin}\\left(- \\phi + \\theta_{0} + \\theta_{1} + \\theta_{2} + \\theta_{3}\\right) & \\operatorname{cos}\\left(- \\phi + \\theta_{0} + \\theta_{1} + \\theta_{2} + \\theta_{3}\\right) & 0\\\\0 & 0 & 1\\end{matrix}\\right]$$"
      ],
      "text/plain": [
       "Matrix([\n",
       "[cos(-phi + theta0 + theta1 + theta2 + theta3), -sin(-phi + theta0 + theta1 + theta2 + theta3), 0],\n",
       "[sin(-phi + theta0 + theta1 + theta2 + theta3),  cos(-phi + theta0 + theta1 + theta2 + theta3), 0],\n",
       "[                                            0,                                              0, 1]])"
      ]
     },
     "execution_count": 9,
     "metadata": {},
     "output_type": "execute_result"
    }
   ],
   "source": [
    "lower_leg_right_frame.orient(upper_leg_right_frame, 'Axis', (theta3, -upper_leg_right_frame.z))\n",
    "simplify(lower_leg_right_frame.dcm(inertial_frame))"
   ]
  },
  {
   "cell_type": "markdown",
   "metadata": {},
   "source": [
    "## Points and Locations"
   ]
  },
  {
   "cell_type": "code",
   "execution_count": 10,
   "metadata": {
    "collapsed": true
   },
   "outputs": [],
   "source": [
    "origin = Point('Origin')\n",
    "ankle_left = Point('AnkleLeft')\n",
    "knee_left = Point('KneeLeft')\n",
    "hip_left = Point('HipLeft')\n",
    "hip_center = Point('HipCenter')\n",
    "hip_right = Point('HipRight')\n",
    "knee_right = Point('KneeRight')\n",
    "ankle_right = Point('AnkleRight')"
   ]
  },
  {
   "cell_type": "code",
   "execution_count": 11,
   "metadata": {
    "collapsed": true
   },
   "outputs": [],
   "source": [
    "lower_leg_length, upper_leg_length, hip_length = symbols('l1, l2, l3')"
   ]
  },
  {
   "cell_type": "code",
   "execution_count": 12,
   "metadata": {
    "collapsed": true
   },
   "outputs": [],
   "source": [
    "origin = Point('Origin')\n",
    "ankle_left = Point('AnkleLeft')\n",
    "knee_left = Point('KneeLeft')\n",
    "hip_left = Point('HipLeft')\n",
    "hip_center = Point('HipCenter')\n",
    "hip_right = Point('HipRight')\n",
    "knee_right = Point('KneeRight')\n",
    "ankle_right = Point('AnkleRight')\n",
    "\n",
    "# here go the lengths of your robots links\n",
    "lower_leg_length, upper_leg_length, hip_length = symbols('l1, l2, l3')\n",
    "\n",
    "ankle_left.set_pos(origin, (0 * inertial_frame.y)+(0 * inertial_frame.x))\n",
    "#ankle_left.pos_from(origin).express(inertial_frame).simplify()\n",
    "\n",
    "knee_left.set_pos(ankle_left, lower_leg_length * lower_leg_left_frame.y)\n",
    "#knee_left.pos_from(origin).express(inertial_frame).simplify()\n",
    "\n",
    "hip_left.set_pos(knee_left, upper_leg_length * upper_leg_left_frame.y)\n",
    "#hip_left.pos_from(origin).express(inertial_frame).simplify()\n",
    "\n",
    "hip_center.set_pos(hip_left, hip_length/2 * hip_frame.x)\n",
    "#hip_center.pos_from(origin).express(inertial_frame).simplify()\n",
    "\n",
    "hip_right.set_pos(hip_center, hip_length/2 * hip_frame.x)\n",
    "#hip_right.pos_from(origin).express(inertial_frame).simplify()\n",
    "\n",
    "knee_right.set_pos(hip_right, upper_leg_length * -upper_leg_right_frame.y)\n",
    "#knee_right.pos_from(origin).express(inertial_frame).simplify()\n",
    "\n",
    "ankle_right.set_pos(knee_right, lower_leg_length * -lower_leg_right_frame.y)\n",
    "#ankle_right.pos_from(origin).express(inertial_frame).simplify()\n"
   ]
  },
  {
   "cell_type": "code",
   "execution_count": 13,
   "metadata": {
    "collapsed": true
   },
   "outputs": [],
   "source": [
    "lower_leg_left_com_length = lower_leg_length/2\n",
    "upper_leg_left_com_length = upper_leg_length/2\n",
    "hip_com_length = hip_length/2\n",
    "upper_leg_right_com_length = upper_leg_length/2\n",
    "lower_leg_right_com_length = lower_leg_length/2\n",
    "\n",
    "lower_leg_left_mass_center = Point('L_COMleft')\n",
    "upper_leg_left_mass_center = Point('U_COMleft')\n",
    "hip_mass_center = Point('H_COMleft')\n",
    "upper_leg_right_mass_center = Point('U_COMright')\n",
    "lower_leg_right_mass_center = Point('L_COMright')"
   ]
  },
  {
   "cell_type": "code",
   "execution_count": 14,
   "metadata": {},
   "outputs": [
    {
     "data": {
      "text/latex": [
       "$$(- \\frac{l_{1}}{2} \\operatorname{sin}\\left(- \\phi + \\theta_{0} + \\theta_{1} + \\theta_{2} + \\theta_{3}\\right) - l_{1} \\operatorname{sin}\\left(\\phi\\right) - l_{2} \\operatorname{sin}\\left(\\phi - \\theta_{0}\\right) - l_{2} \\operatorname{sin}\\left(- \\phi + \\theta_{0} + \\theta_{1} + \\theta_{2}\\right) + l_{3} \\operatorname{cos}\\left(- \\phi + \\theta_{0} + \\theta_{1}\\right))\\mathbf{\\hat{i}_x} + (- \\frac{l_{1}}{2} \\operatorname{cos}\\left(- \\phi + \\theta_{0} + \\theta_{1} + \\theta_{2} + \\theta_{3}\\right) + l_{1} \\operatorname{cos}\\left(\\phi\\right) + l_{2} \\operatorname{cos}\\left(\\phi - \\theta_{0}\\right) - l_{2} \\operatorname{cos}\\left(- \\phi + \\theta_{0} + \\theta_{1} + \\theta_{2}\\right) - l_{3} \\operatorname{sin}\\left(- \\phi + \\theta_{0} + \\theta_{1}\\right))\\mathbf{\\hat{i}_y}$$"
      ],
      "text/plain": [
       "(-l1*sin(-phi + theta0 + theta1 + theta2 + theta3)/2 - l1*sin(phi) - l2*sin(phi - theta0) - l2*sin(-phi + theta0 + theta1 + theta2) + l3*cos(-phi + theta0 + theta1))*I.x + (-l1*cos(-phi + theta0 + theta1 + theta2 + theta3)/2 + l1*cos(phi) + l2*cos(phi - theta0) - l2*cos(-phi + theta0 + theta1 + theta2) - l3*sin(-phi + theta0 + theta1))*I.y"
      ]
     },
     "execution_count": 14,
     "metadata": {},
     "output_type": "execute_result"
    }
   ],
   "source": [
    "lower_leg_left_mass_center.set_pos(ankle_left, lower_leg_left_com_length * lower_leg_left_frame.y)\n",
    "#lower_leg_left_mass_center.pos_from(origin).express(inertial_frame).simplify()\n",
    "\n",
    "upper_leg_left_mass_center.set_pos(knee_left, upper_leg_left_com_length * upper_leg_left_frame.y)\n",
    "#upper_leg_left_mass_center.pos_from(origin).express(inertial_frame).simplify()\n",
    "\n",
    "hip_mass_center.set_pos(hip_center, 0 * hip_frame.x)\n",
    "#hip_mass_center.pos_from(origin).express(inertial_frame).simplify()\n",
    "\n",
    "upper_leg_right_mass_center.set_pos(knee_right, upper_leg_right_com_length * upper_leg_right_frame.y)\n",
    "#upper_leg_right_mass_center.pos_from(origin).express(inertial_frame).simplify()\n",
    "\n",
    "lower_leg_right_mass_center.set_pos(ankle_right, lower_leg_right_com_length * lower_leg_right_frame.y)\n",
    "lower_leg_right_mass_center.pos_from(origin).express(inertial_frame).simplify()"
   ]
  },
  {
   "cell_type": "markdown",
   "metadata": {},
   "source": [
    "## Kinematical Differential Equations"
   ]
  },
  {
   "cell_type": "code",
   "execution_count": 15,
   "metadata": {},
   "outputs": [
    {
     "data": {
      "text/latex": [
       "$$\\left [ \\omega_{0} - \\dot{\\theta}_{0}, \\quad \\omega_{1} - \\dot{\\theta}_{1}, \\quad \\omega_{2} - \\dot{\\theta}_{2}, \\quad \\omega_{3} - \\dot{\\theta}_{3}, \\quad \\psi - \\dot{\\phi}\\right ]$$"
      ],
      "text/plain": [
       "[omega0 - theta0', omega1 - theta1', omega2 - theta2', omega3 - theta3', psi - phi']"
      ]
     },
     "execution_count": 15,
     "metadata": {},
     "output_type": "execute_result"
    }
   ],
   "source": [
    "omega0, omega1, omega2, omega3, psi = dynamicsymbols('omega0, omega1, omega2, omega3, psi')\n",
    "kinematical_differential_equations = [omega0 - theta0.diff(),\n",
    "                                      omega1 - theta1.diff(),\n",
    "                                      omega2 - theta2.diff(),\n",
    "                                      omega3 - theta3.diff(),\n",
    "                                        psi - phi.diff(),                                \n",
    "                                        ]\n",
    "\n",
    "kinematical_differential_equations"
   ]
  },
  {
   "cell_type": "markdown",
   "metadata": {},
   "source": [
    "## Angular Velocities"
   ]
  },
  {
   "cell_type": "code",
   "execution_count": 16,
   "metadata": {},
   "outputs": [
    {
     "data": {
      "text/latex": [
       "$$-  \\dot{\\theta}_{3}\\mathbf{\\hat{r_4}_z} -  \\dot{\\theta}_{2}\\mathbf{\\hat{r_3}_z} -  \\dot{\\theta}_{1}\\mathbf{\\hat{r_2}_z} -  \\dot{\\theta}_{0}\\mathbf{\\hat{r_1}_z}$$"
      ],
      "text/plain": [
       "- theta3'*R_4.z - theta2'*R_3.z - theta1'*R_2.z - theta0'*R_1.z"
      ]
     },
     "execution_count": 16,
     "metadata": {},
     "output_type": "execute_result"
    }
   ],
   "source": [
    "lower_leg_left_frame.set_ang_vel(inertial_frame,         0 * inertial_frame.z)\n",
    "#lower_leg_left_frame.ang_vel_in(inertial_frame)\n",
    "\n",
    "upper_leg_left_frame.set_ang_vel(upper_leg_left_frame,   omega0     * inertial_frame.z)\n",
    "#upper_leg_left_frame.ang_vel_in(inertial_frame)\n",
    "\n",
    "hip_frame.set_ang_vel(hip_frame,   omega1     * inertial_frame.z)\n",
    "#hip_frame.ang_vel_in(inertial_frame)\n",
    "\n",
    "upper_leg_right_frame.set_ang_vel(upper_leg_right_frame, omega2     * inertial_frame.z)\n",
    "#upper_leg_right_frame.ang_vel_in(inertial_frame)\n",
    "\n",
    "lower_leg_right_frame.set_ang_vel(lower_leg_right_frame, omega3     * inertial_frame.z)\n",
    "lower_leg_right_frame.ang_vel_in(inertial_frame)\n"
   ]
  },
  {
   "cell_type": "markdown",
   "metadata": {},
   "source": [
    "# Linear Velocities"
   ]
  },
  {
   "cell_type": "markdown",
   "metadata": {},
   "source": [
    "Finally, the linear velocities of the mass centers are needed. Starting at the ankle_left which has a velocity of 0."
   ]
  },
  {
   "cell_type": "code",
   "execution_count": 17,
   "metadata": {
    "collapsed": true
   },
   "outputs": [],
   "source": [
    "ankle_left.set_vel(inertial_frame, 0)\n",
    "origin.set_vel(inertial_frame, 0)"
   ]
  },
  {
   "cell_type": "markdown",
   "metadata": {},
   "source": [
    "Working our way up the chain we can make use of the fact that the joint points are located on two rigid bodies. Any fixed point in a reference frame can be computed if the linear velocity of another point on that frame is known and the frame's angular velocity is known.\n",
    "\n",
    "$$^I\\mathbf{v}^{P_2} = ^I\\mathbf{v}^{P_1} + ^I\\omega^A \\times \\mathbf{r}^{\\frac{P_2}{P_1}}$$\n",
    "\n",
    "The `Point.v2pt_theory()` method makes it easy to do this calculation."
   ]
  },
  {
   "cell_type": "code",
   "execution_count": 18,
   "metadata": {},
   "outputs": [
    {
     "data": {
      "text/latex": [
       "$$l_{2} \\dot{\\theta}_{0}\\mathbf{\\hat{r_2}_x} + l_{3} \\left(- \\dot{\\theta}_{0} - \\dot{\\theta}_{1}\\right)\\mathbf{\\hat{r_3}_y} + \\frac{l_{2}}{2} \\left(- \\dot{\\theta}_{0} - \\dot{\\theta}_{1} - \\dot{\\theta}_{2}\\right)\\mathbf{\\hat{r_4}_x}$$"
      ],
      "text/plain": [
       "l2*theta0'*R_2.x + l3*(-theta0' - theta1')*R_3.y + l2*(-theta0' - theta1' - theta2')/2*R_4.x"
      ]
     },
     "execution_count": 18,
     "metadata": {},
     "output_type": "execute_result"
    }
   ],
   "source": [
    "knee_left.v2pt_theory(ankle_left, inertial_frame, lower_leg_left_frame)\n",
    "#knee_left.vel(inertial_frame)\n",
    "\n",
    "hip_left.v2pt_theory(knee_left, inertial_frame, upper_leg_left_frame)\n",
    "#hip_left.vel(inertial_frame)\n",
    "\n",
    "hip_center.v2pt_theory(hip_left, inertial_frame, hip_frame)\n",
    "#hip_center.vel(inertial_frame)\n",
    "\n",
    "hip_mass_center.v2pt_theory(hip_center, inertial_frame, hip_frame)\n",
    "#hip_mass_center.vel(inertial_frame)\n",
    "\n",
    "hip_right.v2pt_theory(hip_center, inertial_frame, hip_frame)\n",
    "#hip_right.vel(inertial_frame)\n",
    "\n",
    "knee_right.v2pt_theory(hip_right, inertial_frame, upper_leg_right_frame)\n",
    "#knee_right.vel(inertial_frame)\n",
    "\n",
    "ankle_right.v2pt_theory(knee_right, inertial_frame, lower_leg_right_frame)\n",
    "#ankle_right.vel(inertial_frame)\n",
    "\n",
    "lower_leg_left_mass_center.v2pt_theory(ankle_left, inertial_frame, lower_leg_left_frame)\n",
    "#lower_leg_left_mass_center.vel(inertial_frame)\n",
    "\n",
    "lower_leg_right_mass_center.v2pt_theory(ankle_right, inertial_frame, lower_leg_right_frame)\n",
    "#lower_leg_right_mass_center.vel(inertial_frame)\n",
    "\n",
    "upper_leg_left_mass_center.v2pt_theory(knee_left, inertial_frame, upper_leg_left_frame)\n",
    "#upper_leg_left_mass_center.vel(inertial_frame)\n",
    "\n",
    "upper_leg_right_mass_center.v2pt_theory(knee_right, inertial_frame, upper_leg_right_frame)\n",
    "upper_leg_right_mass_center.vel(inertial_frame)"
   ]
  },
  {
   "cell_type": "markdown",
   "metadata": {},
   "source": [
    "# Masses, Inertia, Rigid Bodies"
   ]
  },
  {
   "cell_type": "code",
   "execution_count": 19,
   "metadata": {},
   "outputs": [
    {
     "data": {
      "text/plain": [
       "[lower_leg_left_mass_center,\n",
       " upper_leg_left_mass_center,\n",
       " hip_mass_center,\n",
       " hip_mass_center,\n",
       " hip_mass_center,\n",
       " lower_leg_left_mass_center,\n",
       " upper_leg_left_mass_center]"
      ]
     },
     "execution_count": 19,
     "metadata": {},
     "output_type": "execute_result"
    }
   ],
   "source": [
    "lower_leg_mass, upper_leg_mass, hip_mass = symbols('m_L, m_U, m_H')\n",
    "\n",
    "lower_leg_inertia, upper_leg_inertia, hip_inertia = symbols('I_Lz, I_Uz, I_Hz')\n",
    "\n",
    "lower_leg_left_inertia_dyadic = inertia(lower_leg_left_frame, lower_leg_inertia, lower_leg_inertia, lower_leg_inertia)\n",
    "lower_leg_left_central_inertia = (lower_leg_left_inertia_dyadic, lower_leg_left_mass_center)\n",
    "lower_leg_left_inertia_dyadic.to_matrix(lower_leg_left_frame)\n",
    "\n",
    "upper_leg_left_inertia_dyadic = inertia(upper_leg_left_frame, upper_leg_inertia, upper_leg_inertia, upper_leg_inertia)\n",
    "upper_leg_left_central_inertia = (upper_leg_left_inertia_dyadic, upper_leg_left_mass_center)\n",
    "upper_leg_left_inertia_dyadic.to_matrix(upper_leg_left_frame)\n",
    "\n",
    "hip_inertia_dyadic = inertia(hip_frame, hip_inertia, hip_inertia, hip_inertia)\n",
    "hip_central_inertia = (hip_inertia_dyadic, hip_mass_center)\n",
    "hip_inertia_dyadic.to_matrix(hip_frame)\n",
    "\n",
    "upper_leg_right_inertia_dyadic = inertia(upper_leg_right_frame, upper_leg_inertia, upper_leg_inertia, upper_leg_inertia)\n",
    "upper_leg_right_central_inertia = (upper_leg_right_inertia_dyadic, upper_leg_right_mass_center)\n",
    "upper_leg_right_inertia_dyadic.to_matrix(upper_leg_right_frame)\n",
    "\n",
    "lower_leg_right_inertia_dyadic = inertia(lower_leg_right_frame, lower_leg_inertia, lower_leg_inertia, lower_leg_inertia)\n",
    "lower_leg_right_central_inertia = (lower_leg_right_inertia_dyadic, lower_leg_right_mass_center)\n",
    "lower_leg_right_inertia_dyadic.to_matrix(lower_leg_right_frame)\n",
    "\n",
    "lower_leg_left = RigidBody('Lower Leg Left', lower_leg_left_mass_center, lower_leg_left_frame, lower_leg_mass, lower_leg_left_central_inertia)\n",
    "                      \n",
    "upper_leg_left = RigidBody('Upper Leg Left', upper_leg_left_mass_center, upper_leg_left_frame, upper_leg_mass, upper_leg_left_central_inertia)\n",
    "\n",
    "hip = RigidBody('Hip', hip_mass_center, hip_frame, hip_mass, hip_central_inertia)\n",
    "\n",
    "upper_leg_right = RigidBody('Upper Leg Right', upper_leg_right_mass_center, upper_leg_right_frame, upper_leg_mass, upper_leg_right_central_inertia)\n",
    "\n",
    "lower_leg_right = RigidBody('Lower Leg Right', lower_leg_right_mass_center, lower_leg_right_frame, lower_leg_mass, lower_leg_right_central_inertia)\n",
    "\n",
    "\n",
    "particles = []\n",
    "particles.append(Particle('ankle_left', ankle_left, 0))\n",
    "particles.append(Particle('knee_left', knee_left, 0))\n",
    "particles.append(Particle('hip_left', hip_left, 0))\n",
    "particles.append(Particle('hip_center', hip_center, 0))\n",
    "particles.append(Particle('hip_right', hip_right, 0))\n",
    "particles.append(Particle('knee_right', knee_right, 0))\n",
    "particles.append(Particle('ankle_right', ankle_right, 0))\n",
    "particles\n",
    "\n",
    "mass_centers = []\n",
    "mass_centers.append(Particle('lower_leg_left_mass_center', lower_leg_left_mass_center, lower_leg_mass))\n",
    "mass_centers.append(Particle('upper_leg_left_mass_center', upper_leg_left_mass_center, upper_leg_mass))\n",
    "mass_centers.append(Particle('hip_mass_center', hip_mass_center, hip_mass))\n",
    "mass_centers.append(Particle('hip_mass_center', hip_mass_center, hip_mass))\n",
    "mass_centers.append(Particle('hip_mass_center', hip_mass_center, hip_mass))\n",
    "mass_centers.append(Particle('lower_leg_left_mass_center', lower_leg_right_mass_center, lower_leg_mass))\n",
    "mass_centers.append(Particle('upper_leg_left_mass_center', upper_leg_right_mass_center, upper_leg_mass))\n",
    "mass_centers"
   ]
  },
  {
   "cell_type": "markdown",
   "metadata": {},
   "source": [
    "# Forces and Torques"
   ]
  },
  {
   "cell_type": "code",
   "execution_count": 20,
   "metadata": {
    "collapsed": true
   },
   "outputs": [],
   "source": [
    "g = symbols('g')"
   ]
  },
  {
   "cell_type": "code",
   "execution_count": 21,
   "metadata": {
    "collapsed": true
   },
   "outputs": [],
   "source": [
    "lower_leg_left_grav_force = (lower_leg_left_mass_center, -lower_leg_mass * g * inertial_frame.y)\n",
    "upper_leg_left_grav_force = (upper_leg_left_mass_center, -upper_leg_mass * g * inertial_frame.y)\n",
    "hip_grav_force = (hip_mass_center, -hip_mass * g * inertial_frame.y)\n",
    "upper_leg_right_grav_force = (upper_leg_right_mass_center, -upper_leg_mass * g * inertial_frame.y)\n",
    "lower_leg_right_grav_force = (lower_leg_right_mass_center, -lower_leg_mass * g * inertial_frame.y)\n",
    "\n",
    "ankle_torque0, knee_torque0, hip_torque0, hip_torque1, knee_torque1, ankle_torque1 = dynamicsymbols('T_a0, T_k0, T_h0, T_h1, T_k1, T_a1')\n",
    "\n",
    "lower_leg_left_torque_vector = ankle_torque0 * inertial_frame.z - knee_torque0 * inertial_frame.z\n",
    "upper_leg_left_torque_vector = knee_torque0 * inertial_frame.z - hip_torque0 * inertial_frame.z\n",
    "hip_left_torque_vector = hip_torque0 * inertial_frame.z - hip_torque1 * inertial_frame.z\n",
    "hip_right_torque_vector = hip_torque1 * inertial_frame.z - knee_torque1 * inertial_frame.z\n",
    "upper_leg_right_torque_vector = knee_torque1 * inertial_frame.z - ankle_torque1 * inertial_frame.z\n",
    "lower_leg_right_torque_vector = ankle_torque1 * inertial_frame.z\n",
    "\n",
    "lower_leg_left_torque = (lower_leg_left_frame, lower_leg_left_torque_vector)\n",
    "upper_leg_left_torque = (upper_leg_left_frame, upper_leg_left_torque_vector)\n",
    "hip_left_torque = (hip_frame, hip_left_torque_vector)\n",
    "hip_right_torque = (hip_frame, hip_right_torque_vector)\n",
    "upper_leg_right_torque = (upper_leg_right_frame, upper_leg_right_torque_vector)\n",
    "lower_leg_right_torque = (lower_leg_right_frame, lower_leg_right_torque_vector)"
   ]
  },
  {
   "cell_type": "markdown",
   "metadata": {},
   "source": [
    "# Equations of Motion"
   ]
  },
  {
   "cell_type": "code",
   "execution_count": 22,
   "metadata": {},
   "outputs": [
    {
     "data": {
      "text/latex": [
       "$$\\left [ \\theta_{0}, \\quad \\theta_{1}, \\quad \\theta_{2}, \\quad \\theta_{3}, \\quad \\phi\\right ]$$"
      ],
      "text/plain": [
       "[theta0, theta1, theta2, theta3, phi]"
      ]
     },
     "execution_count": 22,
     "metadata": {},
     "output_type": "execute_result"
    }
   ],
   "source": [
    "coordinates = [theta0, theta1, theta2, theta3, phi]\n",
    "coordinates"
   ]
  },
  {
   "cell_type": "code",
   "execution_count": 23,
   "metadata": {},
   "outputs": [
    {
     "data": {
      "text/latex": [
       "$$\\left [ \\omega_{0}, \\quad \\omega_{1}, \\quad \\omega_{2}, \\quad \\omega_{3}, \\quad \\psi\\right ]$$"
      ],
      "text/plain": [
       "[omega0, omega1, omega2, omega3, psi]"
      ]
     },
     "execution_count": 23,
     "metadata": {},
     "output_type": "execute_result"
    }
   ],
   "source": [
    "speeds = [omega0, omega1, omega2, omega3, psi]\n",
    "speeds"
   ]
  },
  {
   "cell_type": "code",
   "execution_count": 24,
   "metadata": {},
   "outputs": [
    {
     "data": {
      "text/latex": [
       "$$\\left [ \\omega_{0} - \\dot{\\theta}_{0}, \\quad \\omega_{1} - \\dot{\\theta}_{1}, \\quad \\omega_{2} - \\dot{\\theta}_{2}, \\quad \\omega_{3} - \\dot{\\theta}_{3}, \\quad \\psi - \\dot{\\phi}\\right ]$$"
      ],
      "text/plain": [
       "[omega0 - theta0', omega1 - theta1', omega2 - theta2', omega3 - theta3', psi - phi']"
      ]
     },
     "execution_count": 24,
     "metadata": {},
     "output_type": "execute_result"
    }
   ],
   "source": [
    "kinematical_differential_equations"
   ]
  },
  {
   "cell_type": "code",
   "execution_count": 25,
   "metadata": {
    "collapsed": true
   },
   "outputs": [],
   "source": [
    "kane = KanesMethod(inertial_frame, coordinates, speeds, kinematical_differential_equations)"
   ]
  },
  {
   "cell_type": "code",
   "execution_count": 26,
   "metadata": {},
   "outputs": [
    {
     "data": {
      "text/plain": [
       "[(L_COMleft, - g*m_L*I.y),\n",
       " (U_COMleft, - g*m_U*I.y),\n",
       " (H_COMleft, - g*m_H*I.y),\n",
       " (U_COMright, - g*m_U*I.y),\n",
       " (L_COMright, - g*m_L*I.y),\n",
       " (R_1, (T_a0 - T_k0)*I.z),\n",
       " (R_2, (-T_h0 + T_k0)*I.z),\n",
       " (R_3, (T_h0 - T_h1)*I.z),\n",
       " (R_3, (T_h1 - T_k1)*I.z),\n",
       " (R_4, (-T_a1 + T_k1)*I.z),\n",
       " (R_5, T_a1*I.z)]"
      ]
     },
     "execution_count": 26,
     "metadata": {},
     "output_type": "execute_result"
    }
   ],
   "source": [
    "loads = [lower_leg_left_grav_force,\n",
    "         upper_leg_left_grav_force,\n",
    "         hip_grav_force, \n",
    "         upper_leg_right_grav_force,\n",
    "         lower_leg_right_grav_force,\n",
    "         lower_leg_left_torque,\n",
    "         upper_leg_left_torque,\n",
    "         hip_left_torque,\n",
    "         hip_right_torque,\n",
    "         upper_leg_right_torque,\n",
    "         lower_leg_right_torque]\n",
    "loads"
   ]
  },
  {
   "cell_type": "code",
   "execution_count": 27,
   "metadata": {},
   "outputs": [
    {
     "data": {
      "text/plain": [
       "[Lower Leg Left, Upper Leg Left, Hip, Upper Leg Right, Lower Leg Right]"
      ]
     },
     "execution_count": 27,
     "metadata": {},
     "output_type": "execute_result"
    }
   ],
   "source": [
    "bodies = [lower_leg_left, upper_leg_left, hip, upper_leg_right, lower_leg_right]\n",
    "bodies"
   ]
  },
  {
   "cell_type": "code",
   "execution_count": 28,
   "metadata": {
    "collapsed": true
   },
   "outputs": [],
   "source": [
    "fr, frstar = kane.kanes_equations(loads, bodies)"
   ]
  },
  {
   "cell_type": "code",
   "execution_count": 29,
   "metadata": {},
   "outputs": [
    {
     "data": {
      "text/latex": [
       "$$\\left[\\begin{matrix}- \\frac{g l_{1}}{2} m_{L} \\operatorname{sin}\\left(- \\phi + \\theta_{0} + \\theta_{1} + \\theta_{2} + \\theta_{3}\\right) - g l_{2} m_{H} \\operatorname{sin}\\left(\\phi - \\theta_{0}\\right) - g l_{2} m_{L} \\operatorname{sin}\\left(\\phi - \\theta_{0}\\right) - g l_{2} m_{L} \\operatorname{sin}\\left(- \\phi + \\theta_{0} + \\theta_{1} + \\theta_{2}\\right) - \\frac{3 g}{2} l_{2} m_{U} \\operatorname{sin}\\left(\\phi - \\theta_{0}\\right) - \\frac{g l_{2}}{2} m_{U} \\operatorname{sin}\\left(- \\phi + \\theta_{0} + \\theta_{1} + \\theta_{2}\\right) + \\frac{g l_{3}}{2} m_{H} \\operatorname{cos}\\left(- \\phi + \\theta_{0} + \\theta_{1}\\right) + g l_{3} m_{L} \\operatorname{cos}\\left(- \\phi + \\theta_{0} + \\theta_{1}\\right) + g l_{3} m_{U} \\operatorname{cos}\\left(- \\phi + \\theta_{0} + \\theta_{1}\\right) - \\frac{l_{1} l_{2}}{2} m_{L} \\left(- \\omega_{0} - \\omega_{1} - \\omega_{2}\\right)^{2} \\operatorname{sin}\\left(\\theta_{3}\\right) - \\frac{l_{1} l_{2}}{2} m_{L} \\left(- \\omega_{0} - \\omega_{1} - \\omega_{2} - \\omega_{3}\\right)^{2} \\operatorname{sin}\\left(\\theta_{1} + \\theta_{2} + \\theta_{3}\\right) + \\frac{l_{1} l_{2}}{2} m_{L} \\left(- \\omega_{0} - \\omega_{1} - \\omega_{2} - \\omega_{3}\\right)^{2} \\operatorname{sin}\\left(\\theta_{3}\\right) + \\frac{l_{1} l_{2}}{2} m_{L} \\omega^{2}_{0} \\operatorname{sin}\\left(\\theta_{1} + \\theta_{2} + \\theta_{3}\\right) - \\frac{l_{1} l_{3}}{2} m_{L} \\left(- \\omega_{0} - \\omega_{1}\\right)^{2} \\operatorname{cos}\\left(\\theta_{2} + \\theta_{3}\\right) + \\frac{l_{1} l_{3}}{2} m_{L} \\left(- \\omega_{0} - \\omega_{1} - \\omega_{2} - \\omega_{3}\\right)^{2} \\operatorname{cos}\\left(\\theta_{2} + \\theta_{3}\\right) - l_{2}^{2} m_{L} \\left(- \\omega_{0} - \\omega_{1} - \\omega_{2}\\right)^{2} \\operatorname{sin}\\left(\\theta_{1} + \\theta_{2}\\right) + l_{2}^{2} m_{L} \\omega^{2}_{0} \\operatorname{sin}\\left(\\theta_{1} + \\theta_{2}\\right) - \\frac{l_{2}^{2} m_{U}}{2} \\left(- \\omega_{0} - \\omega_{1} - \\omega_{2}\\right)^{2} \\operatorname{sin}\\left(\\theta_{1} + \\theta_{2}\\right) + \\frac{l_{2}^{2} m_{U}}{2} \\omega^{2}_{0} \\operatorname{sin}\\left(\\theta_{1} + \\theta_{2}\\right) + \\frac{l_{2} l_{3}}{2} m_{H} \\left(- \\omega_{0} - \\omega_{1}\\right)^{2} \\operatorname{cos}\\left(\\theta_{1}\\right) - \\frac{l_{2} l_{3}}{2} m_{H} \\omega^{2}_{0} \\operatorname{cos}\\left(\\theta_{1}\\right) + l_{2} l_{3} m_{L} \\left(- \\omega_{0} - \\omega_{1}\\right)^{2} \\operatorname{cos}\\left(\\theta_{1}\\right) - l_{2} l_{3} m_{L} \\left(- \\omega_{0} - \\omega_{1}\\right)^{2} \\operatorname{cos}\\left(\\theta_{2}\\right) + l_{2} l_{3} m_{L} \\left(- \\omega_{0} - \\omega_{1} - \\omega_{2}\\right)^{2} \\operatorname{cos}\\left(\\theta_{2}\\right) - l_{2} l_{3} m_{L} \\omega^{2}_{0} \\operatorname{cos}\\left(\\theta_{1}\\right) + l_{2} l_{3} m_{U} \\left(- \\omega_{0} - \\omega_{1}\\right)^{2} \\operatorname{cos}\\left(\\theta_{1}\\right) - \\frac{l_{2} l_{3}}{2} m_{U} \\left(- \\omega_{0} - \\omega_{1}\\right)^{2} \\operatorname{cos}\\left(\\theta_{2}\\right) + \\frac{l_{2} l_{3}}{2} m_{U} \\left(- \\omega_{0} - \\omega_{1} - \\omega_{2}\\right)^{2} \\operatorname{cos}\\left(\\theta_{2}\\right) - l_{2} l_{3} m_{U} \\omega^{2}_{0} \\operatorname{cos}\\left(\\theta_{1}\\right) - \\left(I_{Lz} + \\frac{l_{1} m_{L}}{4} \\left(l_{1} - 2 l_{2} \\operatorname{cos}\\left(\\theta_{1} + \\theta_{2} + \\theta_{3}\\right) + 2 l_{2} \\operatorname{cos}\\left(\\theta_{3}\\right) - 2 l_{3} \\operatorname{sin}\\left(\\theta_{2} + \\theta_{3}\\right)\\right)\\right) \\dot{\\omega}_{3} - \\left(I_{Lz} + I_{Uz} + \\frac{l_{2} m_{U}}{4} \\left(- 2 l_{2} \\operatorname{cos}\\left(\\theta_{1} + \\theta_{2}\\right) + l_{2} - 2 l_{3} \\operatorname{sin}\\left(\\theta_{2}\\right)\\right) + m_{L} \\left(\\frac{l_{1}^{2}}{4} - \\frac{l_{1} l_{2}}{2} \\operatorname{cos}\\left(\\theta_{1} + \\theta_{2} + \\theta_{3}\\right) + l_{1} l_{2} \\operatorname{cos}\\left(\\theta_{3}\\right) - \\frac{l_{1} l_{3}}{2} \\operatorname{sin}\\left(\\theta_{2} + \\theta_{3}\\right) - l_{2}^{2} \\operatorname{cos}\\left(\\theta_{1} + \\theta_{2}\\right) + l_{2}^{2} - l_{2} l_{3} \\operatorname{sin}\\left(\\theta_{2}\\right)\\right)\\right) \\dot{\\omega}_{2} - \\left(I_{Hz} + I_{Lz} + I_{Uz} + \\frac{l_{3} m_{H}}{4} \\left(- 2 l_{2} \\operatorname{sin}\\left(\\theta_{1}\\right) + l_{3}\\right) + m_{L} \\left(\\frac{l_{1}^{2}}{4} - \\frac{l_{1} l_{2}}{2} \\operatorname{cos}\\left(\\theta_{1} + \\theta_{2} + \\theta_{3}\\right) + l_{1} l_{2} \\operatorname{cos}\\left(\\theta_{3}\\right) - l_{1} l_{3} \\operatorname{sin}\\left(\\theta_{2} + \\theta_{3}\\right) - l_{2}^{2} \\operatorname{cos}\\left(\\theta_{1} + \\theta_{2}\\right) + l_{2}^{2} - l_{2} l_{3} \\operatorname{sin}\\left(\\theta_{1}\\right) - 2 l_{2} l_{3} \\operatorname{sin}\\left(\\theta_{2}\\right) + l_{3}^{2}\\right) + m_{U} \\left(- \\frac{l_{2}^{2}}{2} \\operatorname{cos}\\left(\\theta_{1} + \\theta_{2}\\right) + \\frac{l_{2}^{2}}{4} - l_{2} l_{3} \\operatorname{sin}\\left(\\theta_{1}\\right) - l_{2} l_{3} \\operatorname{sin}\\left(\\theta_{2}\\right) + l_{3}^{2}\\right)\\right) \\dot{\\omega}_{1} - \\left(I_{Hz} + I_{Lz} + 2 I_{Uz} + \\frac{l_{2}^{2} m_{U}}{4} + m_{H} \\left(l_{2}^{2} - l_{2} l_{3} \\operatorname{sin}\\left(\\theta_{1}\\right) + \\frac{l_{3}^{2}}{4}\\right) + m_{L} \\left(\\frac{l_{1}^{2}}{4} - l_{1} l_{2} \\operatorname{cos}\\left(\\theta_{1} + \\theta_{2} + \\theta_{3}\\right) + l_{1} l_{2} \\operatorname{cos}\\left(\\theta_{3}\\right) - l_{1} l_{3} \\operatorname{sin}\\left(\\theta_{2} + \\theta_{3}\\right) - 2 l_{2}^{2} \\operatorname{cos}\\left(\\theta_{1} + \\theta_{2}\\right) + 2 l_{2}^{2} - 2 l_{2} l_{3} \\operatorname{sin}\\left(\\theta_{1}\\right) - 2 l_{2} l_{3} \\operatorname{sin}\\left(\\theta_{2}\\right) + l_{3}^{2}\\right) + m_{U} \\left(- l_{2}^{2} \\operatorname{cos}\\left(\\theta_{1} + \\theta_{2}\\right) + \\frac{5 l_{2}^{2}}{4} - 2 l_{2} l_{3} \\operatorname{sin}\\left(\\theta_{1}\\right) - l_{2} l_{3} \\operatorname{sin}\\left(\\theta_{2}\\right) + l_{3}^{2}\\right)\\right) \\dot{\\omega}_{0} - T_{k0}\\\\- \\frac{g l_{1}}{2} m_{L} \\operatorname{sin}\\left(- \\phi + \\theta_{0} + \\theta_{1} + \\theta_{2} + \\theta_{3}\\right) - g l_{2} m_{L} \\operatorname{sin}\\left(- \\phi + \\theta_{0} + \\theta_{1} + \\theta_{2}\\right) - \\frac{g l_{2}}{2} m_{U} \\operatorname{sin}\\left(- \\phi + \\theta_{0} + \\theta_{1} + \\theta_{2}\\right) + \\frac{g l_{3}}{2} m_{H} \\operatorname{cos}\\left(- \\phi + \\theta_{0} + \\theta_{1}\\right) + g l_{3} m_{L} \\operatorname{cos}\\left(- \\phi + \\theta_{0} + \\theta_{1}\\right) + g l_{3} m_{U} \\operatorname{cos}\\left(- \\phi + \\theta_{0} + \\theta_{1}\\right) - \\frac{l_{1} l_{2}}{2} m_{L} \\left(- \\omega_{0} - \\omega_{1} - \\omega_{2}\\right)^{2} \\operatorname{sin}\\left(\\theta_{3}\\right) + \\frac{l_{1} l_{2}}{2} m_{L} \\left(- \\omega_{0} - \\omega_{1} - \\omega_{2} - \\omega_{3}\\right)^{2} \\operatorname{sin}\\left(\\theta_{3}\\right) + \\frac{l_{1} l_{2}}{2} m_{L} \\omega^{2}_{0} \\operatorname{sin}\\left(\\theta_{1} + \\theta_{2} + \\theta_{3}\\right) - \\frac{l_{1} l_{3}}{2} m_{L} \\left(- \\omega_{0} - \\omega_{1}\\right)^{2} \\operatorname{cos}\\left(\\theta_{2} + \\theta_{3}\\right) + \\frac{l_{1} l_{3}}{2} m_{L} \\left(- \\omega_{0} - \\omega_{1} - \\omega_{2} - \\omega_{3}\\right)^{2} \\operatorname{cos}\\left(\\theta_{2} + \\theta_{3}\\right) + l_{2}^{2} m_{L} \\omega^{2}_{0} \\operatorname{sin}\\left(\\theta_{1} + \\theta_{2}\\right) + \\frac{l_{2}^{2} m_{U}}{2} \\omega^{2}_{0} \\operatorname{sin}\\left(\\theta_{1} + \\theta_{2}\\right) - \\frac{l_{2} l_{3}}{2} m_{H} \\omega^{2}_{0} \\operatorname{cos}\\left(\\theta_{1}\\right) - l_{2} l_{3} m_{L} \\left(- \\omega_{0} - \\omega_{1}\\right)^{2} \\operatorname{cos}\\left(\\theta_{2}\\right) + l_{2} l_{3} m_{L} \\left(- \\omega_{0} - \\omega_{1} - \\omega_{2}\\right)^{2} \\operatorname{cos}\\left(\\theta_{2}\\right) - l_{2} l_{3} m_{L} \\omega^{2}_{0} \\operatorname{cos}\\left(\\theta_{1}\\right) - \\frac{l_{2} l_{3}}{2} m_{U} \\left(- \\omega_{0} - \\omega_{1}\\right)^{2} \\operatorname{cos}\\left(\\theta_{2}\\right) + \\frac{l_{2} l_{3}}{2} m_{U} \\left(- \\omega_{0} - \\omega_{1} - \\omega_{2}\\right)^{2} \\operatorname{cos}\\left(\\theta_{2}\\right) - l_{2} l_{3} m_{U} \\omega^{2}_{0} \\operatorname{cos}\\left(\\theta_{1}\\right) - \\left(I_{Lz} + \\frac{l_{1} m_{L}}{4} \\left(l_{1} + 2 l_{2} \\operatorname{cos}\\left(\\theta_{3}\\right) - 2 l_{3} \\operatorname{sin}\\left(\\theta_{2} + \\theta_{3}\\right)\\right)\\right) \\dot{\\omega}_{3} - \\left(I_{Lz} + I_{Uz} + \\frac{l_{2} m_{U}}{4} \\left(l_{2} - 2 l_{3} \\operatorname{sin}\\left(\\theta_{2}\\right)\\right) + m_{L} \\left(\\frac{l_{1}^{2}}{4} + l_{1} l_{2} \\operatorname{cos}\\left(\\theta_{3}\\right) - \\frac{l_{1} l_{3}}{2} \\operatorname{sin}\\left(\\theta_{2} + \\theta_{3}\\right) + l_{2}^{2} - l_{2} l_{3} \\operatorname{sin}\\left(\\theta_{2}\\right)\\right)\\right) \\dot{\\omega}_{2} - \\left(I_{Hz} + I_{Lz} + I_{Uz} + \\frac{l_{3}^{2} m_{H}}{4} + m_{L} \\left(\\frac{l_{1}^{2}}{4} + l_{1} l_{2} \\operatorname{cos}\\left(\\theta_{3}\\right) - l_{1} l_{3} \\operatorname{sin}\\left(\\theta_{2} + \\theta_{3}\\right) + l_{2}^{2} - 2 l_{2} l_{3} \\operatorname{sin}\\left(\\theta_{2}\\right) + l_{3}^{2}\\right) + m_{U} \\left(\\frac{l_{2}^{2}}{4} - l_{2} l_{3} \\operatorname{sin}\\left(\\theta_{2}\\right) + l_{3}^{2}\\right)\\right) \\dot{\\omega}_{1} - \\left(I_{Hz} + I_{Lz} + I_{Uz} + \\frac{l_{3} m_{H}}{4} \\left(- 2 l_{2} \\operatorname{sin}\\left(\\theta_{1}\\right) + l_{3}\\right) + m_{L} \\left(\\frac{l_{1}^{2}}{4} - \\frac{l_{1} l_{2}}{2} \\operatorname{cos}\\left(\\theta_{1} + \\theta_{2} + \\theta_{3}\\right) + l_{1} l_{2} \\operatorname{cos}\\left(\\theta_{3}\\right) - l_{1} l_{3} \\operatorname{sin}\\left(\\theta_{2} + \\theta_{3}\\right) - l_{2}^{2} \\operatorname{cos}\\left(\\theta_{1} + \\theta_{2}\\right) + l_{2}^{2} - l_{2} l_{3} \\operatorname{sin}\\left(\\theta_{1}\\right) - 2 l_{2} l_{3} \\operatorname{sin}\\left(\\theta_{2}\\right) + l_{3}^{2}\\right) + m_{U} \\left(- \\frac{l_{2}^{2}}{2} \\operatorname{cos}\\left(\\theta_{1} + \\theta_{2}\\right) + \\frac{l_{2}^{2}}{4} - l_{2} l_{3} \\operatorname{sin}\\left(\\theta_{1}\\right) - l_{2} l_{3} \\operatorname{sin}\\left(\\theta_{2}\\right) + l_{3}^{2}\\right)\\right) \\dot{\\omega}_{0} - T_{h0}\\\\- \\frac{g l_{1}}{2} m_{L} \\operatorname{sin}\\left(- \\phi + \\theta_{0} + \\theta_{1} + \\theta_{2} + \\theta_{3}\\right) - g l_{2} m_{L} \\operatorname{sin}\\left(- \\phi + \\theta_{0} + \\theta_{1} + \\theta_{2}\\right) - \\frac{g l_{2}}{2} m_{U} \\operatorname{sin}\\left(- \\phi + \\theta_{0} + \\theta_{1} + \\theta_{2}\\right) - \\frac{l_{1} l_{2}}{2} m_{L} \\left(- \\omega_{0} - \\omega_{1} - \\omega_{2}\\right)^{2} \\operatorname{sin}\\left(\\theta_{3}\\right) + \\frac{l_{1} l_{2}}{2} m_{L} \\left(- \\omega_{0} - \\omega_{1} - \\omega_{2} - \\omega_{3}\\right)^{2} \\operatorname{sin}\\left(\\theta_{3}\\right) + \\frac{l_{1} l_{2}}{2} m_{L} \\omega^{2}_{0} \\operatorname{sin}\\left(\\theta_{1} + \\theta_{2} + \\theta_{3}\\right) - \\frac{l_{1} l_{3}}{2} m_{L} \\left(- \\omega_{0} - \\omega_{1}\\right)^{2} \\operatorname{cos}\\left(\\theta_{2} + \\theta_{3}\\right) + l_{2}^{2} m_{L} \\omega^{2}_{0} \\operatorname{sin}\\left(\\theta_{1} + \\theta_{2}\\right) + \\frac{l_{2}^{2} m_{U}}{2} \\omega^{2}_{0} \\operatorname{sin}\\left(\\theta_{1} + \\theta_{2}\\right) - l_{2} l_{3} m_{L} \\left(- \\omega_{0} - \\omega_{1}\\right)^{2} \\operatorname{cos}\\left(\\theta_{2}\\right) - \\frac{l_{2} l_{3}}{2} m_{U} \\left(- \\omega_{0} - \\omega_{1}\\right)^{2} \\operatorname{cos}\\left(\\theta_{2}\\right) - \\left(I_{Lz} + \\frac{l_{1} m_{L}}{4} \\left(l_{1} + 2 l_{2} \\operatorname{cos}\\left(\\theta_{3}\\right)\\right)\\right) \\dot{\\omega}_{3} - \\left(I_{Lz} + I_{Uz} + \\frac{l_{2}^{2} m_{U}}{4} + m_{L} \\left(\\frac{l_{1}^{2}}{4} + l_{1} l_{2} \\operatorname{cos}\\left(\\theta_{3}\\right) + l_{2}^{2}\\right)\\right) \\dot{\\omega}_{2} - \\left(I_{Lz} + I_{Uz} + \\frac{l_{2} m_{U}}{4} \\left(l_{2} - 2 l_{3} \\operatorname{sin}\\left(\\theta_{2}\\right)\\right) + m_{L} \\left(\\frac{l_{1}^{2}}{4} + l_{1} l_{2} \\operatorname{cos}\\left(\\theta_{3}\\right) - \\frac{l_{1} l_{3}}{2} \\operatorname{sin}\\left(\\theta_{2} + \\theta_{3}\\right) + l_{2}^{2} - l_{2} l_{3} \\operatorname{sin}\\left(\\theta_{2}\\right)\\right)\\right) \\dot{\\omega}_{1} - \\left(I_{Lz} + I_{Uz} + \\frac{l_{2} m_{U}}{4} \\left(- 2 l_{2} \\operatorname{cos}\\left(\\theta_{1} + \\theta_{2}\\right) + l_{2} - 2 l_{3} \\operatorname{sin}\\left(\\theta_{2}\\right)\\right) + m_{L} \\left(\\frac{l_{1}^{2}}{4} - \\frac{l_{1} l_{2}}{2} \\operatorname{cos}\\left(\\theta_{1} + \\theta_{2} + \\theta_{3}\\right) + l_{1} l_{2} \\operatorname{cos}\\left(\\theta_{3}\\right) - \\frac{l_{1} l_{3}}{2} \\operatorname{sin}\\left(\\theta_{2} + \\theta_{3}\\right) - l_{2}^{2} \\operatorname{cos}\\left(\\theta_{1} + \\theta_{2}\\right) + l_{2}^{2} - l_{2} l_{3} \\operatorname{sin}\\left(\\theta_{2}\\right)\\right)\\right) \\dot{\\omega}_{0} - T_{k1}\\\\- \\frac{g l_{1}}{2} m_{L} \\operatorname{sin}\\left(- \\phi + \\theta_{0} + \\theta_{1} + \\theta_{2} + \\theta_{3}\\right) - \\frac{l_{1} l_{2}}{2} m_{L} \\left(- \\omega_{0} - \\omega_{1} - \\omega_{2}\\right)^{2} \\operatorname{sin}\\left(\\theta_{3}\\right) + \\frac{l_{1} l_{2}}{2} m_{L} \\omega^{2}_{0} \\operatorname{sin}\\left(\\theta_{1} + \\theta_{2} + \\theta_{3}\\right) - \\frac{l_{1} l_{3}}{2} m_{L} \\left(- \\omega_{0} - \\omega_{1}\\right)^{2} \\operatorname{cos}\\left(\\theta_{2} + \\theta_{3}\\right) - \\left(I_{Lz} + \\frac{l_{1}^{2} m_{L}}{4}\\right) \\dot{\\omega}_{3} - \\left(I_{Lz} + \\frac{l_{1} m_{L}}{4} \\left(l_{1} + 2 l_{2} \\operatorname{cos}\\left(\\theta_{3}\\right)\\right)\\right) \\dot{\\omega}_{2} - \\left(I_{Lz} + \\frac{l_{1} m_{L}}{4} \\left(l_{1} + 2 l_{2} \\operatorname{cos}\\left(\\theta_{3}\\right) - 2 l_{3} \\operatorname{sin}\\left(\\theta_{2} + \\theta_{3}\\right)\\right)\\right) \\dot{\\omega}_{1} - \\left(I_{Lz} + \\frac{l_{1} m_{L}}{4} \\left(l_{1} - 2 l_{2} \\operatorname{cos}\\left(\\theta_{1} + \\theta_{2} + \\theta_{3}\\right) + 2 l_{2} \\operatorname{cos}\\left(\\theta_{3}\\right) - 2 l_{3} \\operatorname{sin}\\left(\\theta_{2} + \\theta_{3}\\right)\\right)\\right) \\dot{\\omega}_{0} - T_{a1}\\\\0\\end{matrix}\\right]$$"
      ],
      "text/plain": [
       "Matrix([\n",
       "[-g*l1*m_L*sin(-phi + theta0 + theta1 + theta2 + theta3)/2 - g*l2*m_H*sin(phi - theta0) - g*l2*m_L*sin(phi - theta0) - g*l2*m_L*sin(-phi + theta0 + theta1 + theta2) - 3*g*l2*m_U*sin(phi - theta0)/2 - g*l2*m_U*sin(-phi + theta0 + theta1 + theta2)/2 + g*l3*m_H*cos(-phi + theta0 + theta1)/2 + g*l3*m_L*cos(-phi + theta0 + theta1) + g*l3*m_U*cos(-phi + theta0 + theta1) - l1*l2*m_L*(-omega0 - omega1 - omega2)**2*sin(theta3)/2 - l1*l2*m_L*(-omega0 - omega1 - omega2 - omega3)**2*sin(theta1 + theta2 + theta3)/2 + l1*l2*m_L*(-omega0 - omega1 - omega2 - omega3)**2*sin(theta3)/2 + l1*l2*m_L*omega0**2*sin(theta1 + theta2 + theta3)/2 - l1*l3*m_L*(-omega0 - omega1)**2*cos(theta2 + theta3)/2 + l1*l3*m_L*(-omega0 - omega1 - omega2 - omega3)**2*cos(theta2 + theta3)/2 - l2**2*m_L*(-omega0 - omega1 - omega2)**2*sin(theta1 + theta2) + l2**2*m_L*omega0**2*sin(theta1 + theta2) - l2**2*m_U*(-omega0 - omega1 - omega2)**2*sin(theta1 + theta2)/2 + l2**2*m_U*omega0**2*sin(theta1 + theta2)/2 + l2*l3*m_H*(-omega0 - omega1)**2*cos(theta1)/2 - l2*l3*m_H*omega0**2*cos(theta1)/2 + l2*l3*m_L*(-omega0 - omega1)**2*cos(theta1) - l2*l3*m_L*(-omega0 - omega1)**2*cos(theta2) + l2*l3*m_L*(-omega0 - omega1 - omega2)**2*cos(theta2) - l2*l3*m_L*omega0**2*cos(theta1) + l2*l3*m_U*(-omega0 - omega1)**2*cos(theta1) - l2*l3*m_U*(-omega0 - omega1)**2*cos(theta2)/2 + l2*l3*m_U*(-omega0 - omega1 - omega2)**2*cos(theta2)/2 - l2*l3*m_U*omega0**2*cos(theta1) - (I_Lz + l1*m_L*(l1 - 2*l2*cos(theta1 + theta2 + theta3) + 2*l2*cos(theta3) - 2*l3*sin(theta2 + theta3))/4)*omega3' - (I_Lz + I_Uz + l2*m_U*(-2*l2*cos(theta1 + theta2) + l2 - 2*l3*sin(theta2))/4 + m_L*(l1**2/4 - l1*l2*cos(theta1 + theta2 + theta3)/2 + l1*l2*cos(theta3) - l1*l3*sin(theta2 + theta3)/2 - l2**2*cos(theta1 + theta2) + l2**2 - l2*l3*sin(theta2)))*omega2' - (I_Hz + I_Lz + I_Uz + l3*m_H*(-2*l2*sin(theta1) + l3)/4 + m_L*(l1**2/4 - l1*l2*cos(theta1 + theta2 + theta3)/2 + l1*l2*cos(theta3) - l1*l3*sin(theta2 + theta3) - l2**2*cos(theta1 + theta2) + l2**2 - l2*l3*sin(theta1) - 2*l2*l3*sin(theta2) + l3**2) + m_U*(-l2**2*cos(theta1 + theta2)/2 + l2**2/4 - l2*l3*sin(theta1) - l2*l3*sin(theta2) + l3**2))*omega1' - (I_Hz + I_Lz + 2*I_Uz + l2**2*m_U/4 + m_H*(l2**2 - l2*l3*sin(theta1) + l3**2/4) + m_L*(l1**2/4 - l1*l2*cos(theta1 + theta2 + theta3) + l1*l2*cos(theta3) - l1*l3*sin(theta2 + theta3) - 2*l2**2*cos(theta1 + theta2) + 2*l2**2 - 2*l2*l3*sin(theta1) - 2*l2*l3*sin(theta2) + l3**2) + m_U*(-l2**2*cos(theta1 + theta2) + 5*l2**2/4 - 2*l2*l3*sin(theta1) - l2*l3*sin(theta2) + l3**2))*omega0' - T_k0],\n",
       "[                                                                                                                                                                                                                                                                                                                                                                                                                                                                                                                                                                                                                                                                                                                                                                                                     -g*l1*m_L*sin(-phi + theta0 + theta1 + theta2 + theta3)/2 - g*l2*m_L*sin(-phi + theta0 + theta1 + theta2) - g*l2*m_U*sin(-phi + theta0 + theta1 + theta2)/2 + g*l3*m_H*cos(-phi + theta0 + theta1)/2 + g*l3*m_L*cos(-phi + theta0 + theta1) + g*l3*m_U*cos(-phi + theta0 + theta1) - l1*l2*m_L*(-omega0 - omega1 - omega2)**2*sin(theta3)/2 + l1*l2*m_L*(-omega0 - omega1 - omega2 - omega3)**2*sin(theta3)/2 + l1*l2*m_L*omega0**2*sin(theta1 + theta2 + theta3)/2 - l1*l3*m_L*(-omega0 - omega1)**2*cos(theta2 + theta3)/2 + l1*l3*m_L*(-omega0 - omega1 - omega2 - omega3)**2*cos(theta2 + theta3)/2 + l2**2*m_L*omega0**2*sin(theta1 + theta2) + l2**2*m_U*omega0**2*sin(theta1 + theta2)/2 - l2*l3*m_H*omega0**2*cos(theta1)/2 - l2*l3*m_L*(-omega0 - omega1)**2*cos(theta2) + l2*l3*m_L*(-omega0 - omega1 - omega2)**2*cos(theta2) - l2*l3*m_L*omega0**2*cos(theta1) - l2*l3*m_U*(-omega0 - omega1)**2*cos(theta2)/2 + l2*l3*m_U*(-omega0 - omega1 - omega2)**2*cos(theta2)/2 - l2*l3*m_U*omega0**2*cos(theta1) - (I_Lz + l1*m_L*(l1 + 2*l2*cos(theta3) - 2*l3*sin(theta2 + theta3))/4)*omega3' - (I_Lz + I_Uz + l2*m_U*(l2 - 2*l3*sin(theta2))/4 + m_L*(l1**2/4 + l1*l2*cos(theta3) - l1*l3*sin(theta2 + theta3)/2 + l2**2 - l2*l3*sin(theta2)))*omega2' - (I_Hz + I_Lz + I_Uz + l3**2*m_H/4 + m_L*(l1**2/4 + l1*l2*cos(theta3) - l1*l3*sin(theta2 + theta3) + l2**2 - 2*l2*l3*sin(theta2) + l3**2) + m_U*(l2**2/4 - l2*l3*sin(theta2) + l3**2))*omega1' - (I_Hz + I_Lz + I_Uz + l3*m_H*(-2*l2*sin(theta1) + l3)/4 + m_L*(l1**2/4 - l1*l2*cos(theta1 + theta2 + theta3)/2 + l1*l2*cos(theta3) - l1*l3*sin(theta2 + theta3) - l2**2*cos(theta1 + theta2) + l2**2 - l2*l3*sin(theta1) - 2*l2*l3*sin(theta2) + l3**2) + m_U*(-l2**2*cos(theta1 + theta2)/2 + l2**2/4 - l2*l3*sin(theta1) - l2*l3*sin(theta2) + l3**2))*omega0' - T_h0],\n",
       "[                                                                                                                                                                                                                                                                                                                                                                                                                                                                                                                                                                                                                                                                                                                                                                                                                                                                                                                                                                                                                                                                                                                                                                                                                                                                                                                                                                                                                                                                                -g*l1*m_L*sin(-phi + theta0 + theta1 + theta2 + theta3)/2 - g*l2*m_L*sin(-phi + theta0 + theta1 + theta2) - g*l2*m_U*sin(-phi + theta0 + theta1 + theta2)/2 - l1*l2*m_L*(-omega0 - omega1 - omega2)**2*sin(theta3)/2 + l1*l2*m_L*(-omega0 - omega1 - omega2 - omega3)**2*sin(theta3)/2 + l1*l2*m_L*omega0**2*sin(theta1 + theta2 + theta3)/2 - l1*l3*m_L*(-omega0 - omega1)**2*cos(theta2 + theta3)/2 + l2**2*m_L*omega0**2*sin(theta1 + theta2) + l2**2*m_U*omega0**2*sin(theta1 + theta2)/2 - l2*l3*m_L*(-omega0 - omega1)**2*cos(theta2) - l2*l3*m_U*(-omega0 - omega1)**2*cos(theta2)/2 - (I_Lz + l1*m_L*(l1 + 2*l2*cos(theta3))/4)*omega3' - (I_Lz + I_Uz + l2**2*m_U/4 + m_L*(l1**2/4 + l1*l2*cos(theta3) + l2**2))*omega2' - (I_Lz + I_Uz + l2*m_U*(l2 - 2*l3*sin(theta2))/4 + m_L*(l1**2/4 + l1*l2*cos(theta3) - l1*l3*sin(theta2 + theta3)/2 + l2**2 - l2*l3*sin(theta2)))*omega1' - (I_Lz + I_Uz + l2*m_U*(-2*l2*cos(theta1 + theta2) + l2 - 2*l3*sin(theta2))/4 + m_L*(l1**2/4 - l1*l2*cos(theta1 + theta2 + theta3)/2 + l1*l2*cos(theta3) - l1*l3*sin(theta2 + theta3)/2 - l2**2*cos(theta1 + theta2) + l2**2 - l2*l3*sin(theta2)))*omega0' - T_k1],\n",
       "[                                                                                                                                                                                                                                                                                                                                                                                                                                                                                                                                                                                                                                                                                                                                                                                                                                                                                                                                                                                                                                                                                                                                                                                                                                                                                                                                                                                                                                                                                                                                                                                                                                                                                                                                                                                                                                                                                                                                                                                                                                                                                                              -g*l1*m_L*sin(-phi + theta0 + theta1 + theta2 + theta3)/2 - l1*l2*m_L*(-omega0 - omega1 - omega2)**2*sin(theta3)/2 + l1*l2*m_L*omega0**2*sin(theta1 + theta2 + theta3)/2 - l1*l3*m_L*(-omega0 - omega1)**2*cos(theta2 + theta3)/2 - (I_Lz + l1**2*m_L/4)*omega3' - (I_Lz + l1*m_L*(l1 + 2*l2*cos(theta3))/4)*omega2' - (I_Lz + l1*m_L*(l1 + 2*l2*cos(theta3) - 2*l3*sin(theta2 + theta3))/4)*omega1' - (I_Lz + l1*m_L*(l1 - 2*l2*cos(theta1 + theta2 + theta3) + 2*l2*cos(theta3) - 2*l3*sin(theta2 + theta3))/4)*omega0' - T_a1],\n",
       "[                                                                                                                                                                                                                                                                                                                                                                                                                                                                                                                                                                                                                                                                                                                                                                                                                                                                                                                                                                                                                                                                                                                                                                                                                                                                                                                                                                                                                                                                                                                                                                                                                                                                                                                                                                                                                                                                                                                                                                                                                                                                                                                                                                                                                                                                                                                                                                                                                                                                                                                                                                                                                                             0]])"
      ]
     },
     "execution_count": 29,
     "metadata": {},
     "output_type": "execute_result"
    }
   ],
   "source": [
    "trigsimp(fr + frstar)"
   ]
  },
  {
   "cell_type": "markdown",
   "metadata": {},
   "source": [
    "Keep in mind that out utlimate goal is to have the equations of motion in first order form:\n",
    "\n",
    "$$ \\dot{\\mathbf{x}} = \\mathbf{g}(\\mathbf{x}, t) $$\n",
    "\n",
    "The equations of motion are linear in terms of the derivatives of the generalized speeds and the `KanesMethod` class automatically puts the equations in a more useful form for the next step of numerical simulation:\n",
    "\n",
    "$$ \\mathbf{M}(\\mathbf{x}, t)\\dot{\\mathbf{x}} = \\mathbf{f}(\\mathbf{x}, t) $$\n",
    "\n",
    "Note that\n",
    "\n",
    "$$ \\mathbf{g} = \\mathbf{M}^{-1}(\\mathbf{x}, t) \\mathbf{f}(\\mathbf{x}, t) $$\n",
    "\n",
    "and that $\\mathbf{g}$ can be computed analytically but for non-toy problems, it is best to do this numerically. So we will simply generate the $\\mathbf{M}$ and $\\mathbf{f}$ matrices for later use.\n",
    "\n",
    "The mass matrix, $\\mathbf{M}$, can be accessed with the `mass_matrix` method (use `mass_matrix_full` to include the kinematical differential equations too. We can use `trigsimp` again to make this relatively compact: "
   ]
  },
  {
   "cell_type": "code",
   "execution_count": 30,
   "metadata": {},
   "outputs": [
    {
     "data": {
      "text/latex": [
       "$$\\left[\\begin{matrix}1 & 0 & 0 & 0 & 0 & 0 & 0 & 0 & 0 & 0\\\\0 & 1 & 0 & 0 & 0 & 0 & 0 & 0 & 0 & 0\\\\0 & 0 & 1 & 0 & 0 & 0 & 0 & 0 & 0 & 0\\\\0 & 0 & 0 & 1 & 0 & 0 & 0 & 0 & 0 & 0\\\\0 & 0 & 0 & 0 & 1 & 0 & 0 & 0 & 0 & 0\\\\0 & 0 & 0 & 0 & 0 & I_{Hz} + I_{Lz} + 2 I_{Uz} + \\frac{l_{2}^{2} m_{U}}{4} + m_{H} \\left(l_{2}^{2} - l_{2} l_{3} \\operatorname{sin}\\left(\\theta_{1}\\right) + \\frac{l_{3}^{2}}{4}\\right) + m_{L} \\left(\\frac{l_{1}^{2}}{4} - l_{1} l_{2} \\operatorname{cos}\\left(\\theta_{1} + \\theta_{2} + \\theta_{3}\\right) + l_{1} l_{2} \\operatorname{cos}\\left(\\theta_{3}\\right) - l_{1} l_{3} \\operatorname{sin}\\left(\\theta_{2} + \\theta_{3}\\right) - 2 l_{2}^{2} \\operatorname{cos}\\left(\\theta_{1} + \\theta_{2}\\right) + 2 l_{2}^{2} - 2 l_{2} l_{3} \\operatorname{sin}\\left(\\theta_{1}\\right) - 2 l_{2} l_{3} \\operatorname{sin}\\left(\\theta_{2}\\right) + l_{3}^{2}\\right) + m_{U} \\left(- l_{2}^{2} \\operatorname{cos}\\left(\\theta_{1} + \\theta_{2}\\right) + \\frac{5 l_{2}^{2}}{4} - 2 l_{2} l_{3} \\operatorname{sin}\\left(\\theta_{1}\\right) - l_{2} l_{3} \\operatorname{sin}\\left(\\theta_{2}\\right) + l_{3}^{2}\\right) & I_{Hz} + I_{Lz} + I_{Uz} + \\frac{l_{3} m_{H}}{4} \\left(- 2 l_{2} \\operatorname{sin}\\left(\\theta_{1}\\right) + l_{3}\\right) + m_{L} \\left(\\frac{l_{1}^{2}}{4} - \\frac{l_{1} l_{2}}{2} \\operatorname{cos}\\left(\\theta_{1} + \\theta_{2} + \\theta_{3}\\right) + l_{1} l_{2} \\operatorname{cos}\\left(\\theta_{3}\\right) - l_{1} l_{3} \\operatorname{sin}\\left(\\theta_{2} + \\theta_{3}\\right) - l_{2}^{2} \\operatorname{cos}\\left(\\theta_{1} + \\theta_{2}\\right) + l_{2}^{2} - l_{2} l_{3} \\operatorname{sin}\\left(\\theta_{1}\\right) - 2 l_{2} l_{3} \\operatorname{sin}\\left(\\theta_{2}\\right) + l_{3}^{2}\\right) + m_{U} \\left(- \\frac{l_{2}^{2}}{2} \\operatorname{cos}\\left(\\theta_{1} + \\theta_{2}\\right) + \\frac{l_{2}^{2}}{4} - l_{2} l_{3} \\operatorname{sin}\\left(\\theta_{1}\\right) - l_{2} l_{3} \\operatorname{sin}\\left(\\theta_{2}\\right) + l_{3}^{2}\\right) & I_{Lz} + I_{Uz} + \\frac{l_{2} m_{U}}{4} \\left(- 2 l_{2} \\operatorname{cos}\\left(\\theta_{1} + \\theta_{2}\\right) + l_{2} - 2 l_{3} \\operatorname{sin}\\left(\\theta_{2}\\right)\\right) + m_{L} \\left(\\frac{l_{1}^{2}}{4} - \\frac{l_{1} l_{2}}{2} \\operatorname{cos}\\left(\\theta_{1} + \\theta_{2} + \\theta_{3}\\right) + l_{1} l_{2} \\operatorname{cos}\\left(\\theta_{3}\\right) - \\frac{l_{1} l_{3}}{2} \\operatorname{sin}\\left(\\theta_{2} + \\theta_{3}\\right) - l_{2}^{2} \\operatorname{cos}\\left(\\theta_{1} + \\theta_{2}\\right) + l_{2}^{2} - l_{2} l_{3} \\operatorname{sin}\\left(\\theta_{2}\\right)\\right) & I_{Lz} + \\frac{l_{1} m_{L}}{4} \\left(l_{1} - 2 l_{2} \\operatorname{cos}\\left(\\theta_{1} + \\theta_{2} + \\theta_{3}\\right) + 2 l_{2} \\operatorname{cos}\\left(\\theta_{3}\\right) - 2 l_{3} \\operatorname{sin}\\left(\\theta_{2} + \\theta_{3}\\right)\\right) & 0\\\\0 & 0 & 0 & 0 & 0 & I_{Hz} + I_{Lz} + I_{Uz} + \\frac{l_{3} m_{H}}{4} \\left(- 2 l_{2} \\operatorname{sin}\\left(\\theta_{1}\\right) + l_{3}\\right) + m_{L} \\left(\\frac{l_{1}^{2}}{4} - \\frac{l_{1} l_{2}}{2} \\operatorname{cos}\\left(\\theta_{1} + \\theta_{2} + \\theta_{3}\\right) + l_{1} l_{2} \\operatorname{cos}\\left(\\theta_{3}\\right) - l_{1} l_{3} \\operatorname{sin}\\left(\\theta_{2} + \\theta_{3}\\right) - l_{2}^{2} \\operatorname{cos}\\left(\\theta_{1} + \\theta_{2}\\right) + l_{2}^{2} - l_{2} l_{3} \\operatorname{sin}\\left(\\theta_{1}\\right) - 2 l_{2} l_{3} \\operatorname{sin}\\left(\\theta_{2}\\right) + l_{3}^{2}\\right) + m_{U} \\left(- \\frac{l_{2}^{2}}{2} \\operatorname{cos}\\left(\\theta_{1} + \\theta_{2}\\right) + \\frac{l_{2}^{2}}{4} - l_{2} l_{3} \\operatorname{sin}\\left(\\theta_{1}\\right) - l_{2} l_{3} \\operatorname{sin}\\left(\\theta_{2}\\right) + l_{3}^{2}\\right) & I_{Hz} + I_{Lz} + I_{Uz} + \\frac{l_{3}^{2} m_{H}}{4} + m_{L} \\left(\\frac{l_{1}^{2}}{4} + l_{1} l_{2} \\operatorname{cos}\\left(\\theta_{3}\\right) - l_{1} l_{3} \\operatorname{sin}\\left(\\theta_{2} + \\theta_{3}\\right) + l_{2}^{2} - 2 l_{2} l_{3} \\operatorname{sin}\\left(\\theta_{2}\\right) + l_{3}^{2}\\right) + m_{U} \\left(\\frac{l_{2}^{2}}{4} - l_{2} l_{3} \\operatorname{sin}\\left(\\theta_{2}\\right) + l_{3}^{2}\\right) & I_{Lz} + I_{Uz} + \\frac{l_{2} m_{U}}{4} \\left(l_{2} - 2 l_{3} \\operatorname{sin}\\left(\\theta_{2}\\right)\\right) + m_{L} \\left(\\frac{l_{1}^{2}}{4} + l_{1} l_{2} \\operatorname{cos}\\left(\\theta_{3}\\right) - \\frac{l_{1} l_{3}}{2} \\operatorname{sin}\\left(\\theta_{2} + \\theta_{3}\\right) + l_{2}^{2} - l_{2} l_{3} \\operatorname{sin}\\left(\\theta_{2}\\right)\\right) & I_{Lz} + \\frac{l_{1} m_{L}}{4} \\left(l_{1} + 2 l_{2} \\operatorname{cos}\\left(\\theta_{3}\\right) - 2 l_{3} \\operatorname{sin}\\left(\\theta_{2} + \\theta_{3}\\right)\\right) & 0\\\\0 & 0 & 0 & 0 & 0 & I_{Lz} + I_{Uz} + \\frac{l_{2} m_{U}}{4} \\left(- 2 l_{2} \\operatorname{cos}\\left(\\theta_{1} + \\theta_{2}\\right) + l_{2} - 2 l_{3} \\operatorname{sin}\\left(\\theta_{2}\\right)\\right) + m_{L} \\left(\\frac{l_{1}^{2}}{4} - \\frac{l_{1} l_{2}}{2} \\operatorname{cos}\\left(\\theta_{1} + \\theta_{2} + \\theta_{3}\\right) + l_{1} l_{2} \\operatorname{cos}\\left(\\theta_{3}\\right) - \\frac{l_{1} l_{3}}{2} \\operatorname{sin}\\left(\\theta_{2} + \\theta_{3}\\right) - l_{2}^{2} \\operatorname{cos}\\left(\\theta_{1} + \\theta_{2}\\right) + l_{2}^{2} - l_{2} l_{3} \\operatorname{sin}\\left(\\theta_{2}\\right)\\right) & I_{Lz} + I_{Uz} + \\frac{l_{2} m_{U}}{4} \\left(l_{2} - 2 l_{3} \\operatorname{sin}\\left(\\theta_{2}\\right)\\right) + m_{L} \\left(\\frac{l_{1}^{2}}{4} + l_{1} l_{2} \\operatorname{cos}\\left(\\theta_{3}\\right) - \\frac{l_{1} l_{3}}{2} \\operatorname{sin}\\left(\\theta_{2} + \\theta_{3}\\right) + l_{2}^{2} - l_{2} l_{3} \\operatorname{sin}\\left(\\theta_{2}\\right)\\right) & I_{Lz} + I_{Uz} + \\frac{l_{2}^{2} m_{U}}{4} + m_{L} \\left(\\frac{l_{1}^{2}}{4} + l_{1} l_{2} \\operatorname{cos}\\left(\\theta_{3}\\right) + l_{2}^{2}\\right) & I_{Lz} + \\frac{l_{1} m_{L}}{4} \\left(l_{1} + 2 l_{2} \\operatorname{cos}\\left(\\theta_{3}\\right)\\right) & 0\\\\0 & 0 & 0 & 0 & 0 & I_{Lz} + \\frac{l_{1} m_{L}}{4} \\left(l_{1} - 2 l_{2} \\operatorname{cos}\\left(\\theta_{1} + \\theta_{2} + \\theta_{3}\\right) + 2 l_{2} \\operatorname{cos}\\left(\\theta_{3}\\right) - 2 l_{3} \\operatorname{sin}\\left(\\theta_{2} + \\theta_{3}\\right)\\right) & I_{Lz} + \\frac{l_{1} m_{L}}{4} \\left(l_{1} + 2 l_{2} \\operatorname{cos}\\left(\\theta_{3}\\right) - 2 l_{3} \\operatorname{sin}\\left(\\theta_{2} + \\theta_{3}\\right)\\right) & I_{Lz} + \\frac{l_{1} m_{L}}{4} \\left(l_{1} + 2 l_{2} \\operatorname{cos}\\left(\\theta_{3}\\right)\\right) & I_{Lz} + \\frac{l_{1}^{2} m_{L}}{4} & 0\\\\0 & 0 & 0 & 0 & 0 & 0 & 0 & 0 & 0 & 0\\end{matrix}\\right]$$"
      ],
      "text/plain": [
       "Matrix([\n",
       "[1, 0, 0, 0, 0,                                                                                                                                                                                                                                                                                                                                                                                    0,                                                                                                                                                                                                                                                                                                                                                      0,                                                                                                                                                                                                                                               0,                                                                                                        0, 0],\n",
       "[0, 1, 0, 0, 0,                                                                                                                                                                                                                                                                                                                                                                                    0,                                                                                                                                                                                                                                                                                                                                                      0,                                                                                                                                                                                                                                               0,                                                                                                        0, 0],\n",
       "[0, 0, 1, 0, 0,                                                                                                                                                                                                                                                                                                                                                                                    0,                                                                                                                                                                                                                                                                                                                                                      0,                                                                                                                                                                                                                                               0,                                                                                                        0, 0],\n",
       "[0, 0, 0, 1, 0,                                                                                                                                                                                                                                                                                                                                                                                    0,                                                                                                                                                                                                                                                                                                                                                      0,                                                                                                                                                                                                                                               0,                                                                                                        0, 0],\n",
       "[0, 0, 0, 0, 1,                                                                                                                                                                                                                                                                                                                                                                                    0,                                                                                                                                                                                                                                                                                                                                                      0,                                                                                                                                                                                                                                               0,                                                                                                        0, 0],\n",
       "[0, 0, 0, 0, 0, I_Hz + I_Lz + 2*I_Uz + l2**2*m_U/4 + m_H*(l2**2 - l2*l3*sin(theta1) + l3**2/4) + m_L*(l1**2/4 - l1*l2*cos(theta1 + theta2 + theta3) + l1*l2*cos(theta3) - l1*l3*sin(theta2 + theta3) - 2*l2**2*cos(theta1 + theta2) + 2*l2**2 - 2*l2*l3*sin(theta1) - 2*l2*l3*sin(theta2) + l3**2) + m_U*(-l2**2*cos(theta1 + theta2) + 5*l2**2/4 - 2*l2*l3*sin(theta1) - l2*l3*sin(theta2) + l3**2), I_Hz + I_Lz + I_Uz + l3*m_H*(-2*l2*sin(theta1) + l3)/4 + m_L*(l1**2/4 - l1*l2*cos(theta1 + theta2 + theta3)/2 + l1*l2*cos(theta3) - l1*l3*sin(theta2 + theta3) - l2**2*cos(theta1 + theta2) + l2**2 - l2*l3*sin(theta1) - 2*l2*l3*sin(theta2) + l3**2) + m_U*(-l2**2*cos(theta1 + theta2)/2 + l2**2/4 - l2*l3*sin(theta1) - l2*l3*sin(theta2) + l3**2), I_Lz + I_Uz + l2*m_U*(-2*l2*cos(theta1 + theta2) + l2 - 2*l3*sin(theta2))/4 + m_L*(l1**2/4 - l1*l2*cos(theta1 + theta2 + theta3)/2 + l1*l2*cos(theta3) - l1*l3*sin(theta2 + theta3)/2 - l2**2*cos(theta1 + theta2) + l2**2 - l2*l3*sin(theta2)), I_Lz + l1*m_L*(l1 - 2*l2*cos(theta1 + theta2 + theta3) + 2*l2*cos(theta3) - 2*l3*sin(theta2 + theta3))/4, 0],\n",
       "[0, 0, 0, 0, 0,                               I_Hz + I_Lz + I_Uz + l3*m_H*(-2*l2*sin(theta1) + l3)/4 + m_L*(l1**2/4 - l1*l2*cos(theta1 + theta2 + theta3)/2 + l1*l2*cos(theta3) - l1*l3*sin(theta2 + theta3) - l2**2*cos(theta1 + theta2) + l2**2 - l2*l3*sin(theta1) - 2*l2*l3*sin(theta2) + l3**2) + m_U*(-l2**2*cos(theta1 + theta2)/2 + l2**2/4 - l2*l3*sin(theta1) - l2*l3*sin(theta2) + l3**2),                                                                                                                                                                    I_Hz + I_Lz + I_Uz + l3**2*m_H/4 + m_L*(l1**2/4 + l1*l2*cos(theta3) - l1*l3*sin(theta2 + theta3) + l2**2 - 2*l2*l3*sin(theta2) + l3**2) + m_U*(l2**2/4 - l2*l3*sin(theta2) + l3**2),                                                                                                   I_Lz + I_Uz + l2*m_U*(l2 - 2*l3*sin(theta2))/4 + m_L*(l1**2/4 + l1*l2*cos(theta3) - l1*l3*sin(theta2 + theta3)/2 + l2**2 - l2*l3*sin(theta2)),                                      I_Lz + l1*m_L*(l1 + 2*l2*cos(theta3) - 2*l3*sin(theta2 + theta3))/4, 0],\n",
       "[0, 0, 0, 0, 0,                                                                                                                                      I_Lz + I_Uz + l2*m_U*(-2*l2*cos(theta1 + theta2) + l2 - 2*l3*sin(theta2))/4 + m_L*(l1**2/4 - l1*l2*cos(theta1 + theta2 + theta3)/2 + l1*l2*cos(theta3) - l1*l3*sin(theta2 + theta3)/2 - l2**2*cos(theta1 + theta2) + l2**2 - l2*l3*sin(theta2)),                                                                                                                                                                                                          I_Lz + I_Uz + l2*m_U*(l2 - 2*l3*sin(theta2))/4 + m_L*(l1**2/4 + l1*l2*cos(theta3) - l1*l3*sin(theta2 + theta3)/2 + l2**2 - l2*l3*sin(theta2)),                                                                                                                                                                           I_Lz + I_Uz + l2**2*m_U/4 + m_L*(l1**2/4 + l1*l2*cos(theta3) + l2**2),                                                                  I_Lz + l1*m_L*(l1 + 2*l2*cos(theta3))/4, 0],\n",
       "[0, 0, 0, 0, 0,                                                                                                                                                                                                                                                                             I_Lz + l1*m_L*(l1 - 2*l2*cos(theta1 + theta2 + theta3) + 2*l2*cos(theta3) - 2*l3*sin(theta2 + theta3))/4,                                                                                                                                                                                                                                                                                    I_Lz + l1*m_L*(l1 + 2*l2*cos(theta3) - 2*l3*sin(theta2 + theta3))/4,                                                                                                                                                                                                         I_Lz + l1*m_L*(l1 + 2*l2*cos(theta3))/4,                                                                                       I_Lz + l1**2*m_L/4, 0],\n",
       "[0, 0, 0, 0, 0,                                                                                                                                                                                                                                                                                                                                                                                    0,                                                                                                                                                                                                                                                                                                                                                      0,                                                                                                                                                                                                                                               0,                                                                                                        0, 0]])"
      ]
     },
     "execution_count": 30,
     "metadata": {},
     "output_type": "execute_result"
    }
   ],
   "source": [
    "mass_matrix = trigsimp(kane.mass_matrix_full)\n",
    "mass_matrix"
   ]
  },
  {
   "cell_type": "markdown",
   "metadata": {},
   "source": [
    "The right hand side, $\\mathbf{f}$, is a vector function of all the non-inertial forces (gyroscopic, external, coriolis, etc):"
   ]
  },
  {
   "cell_type": "code",
   "execution_count": 31,
   "metadata": {},
   "outputs": [
    {
     "data": {
      "text/latex": [
       "$$\\left[\\begin{matrix}\\omega_{0}\\\\\\omega_{1}\\\\\\omega_{2}\\\\\\omega_{3}\\\\\\psi\\\\- \\frac{g l_{1}}{2} m_{L} \\operatorname{sin}\\left(- \\phi + \\theta_{0} + \\theta_{1} + \\theta_{2} + \\theta_{3}\\right) - g l_{2} m_{H} \\operatorname{sin}\\left(\\phi - \\theta_{0}\\right) - g l_{2} m_{L} \\operatorname{sin}\\left(\\phi - \\theta_{0}\\right) - g l_{2} m_{L} \\operatorname{sin}\\left(- \\phi + \\theta_{0} + \\theta_{1} + \\theta_{2}\\right) - \\frac{3 g}{2} l_{2} m_{U} \\operatorname{sin}\\left(\\phi - \\theta_{0}\\right) - \\frac{g l_{2}}{2} m_{U} \\operatorname{sin}\\left(- \\phi + \\theta_{0} + \\theta_{1} + \\theta_{2}\\right) + \\frac{g l_{3}}{2} m_{H} \\operatorname{cos}\\left(- \\phi + \\theta_{0} + \\theta_{1}\\right) + g l_{3} m_{L} \\operatorname{cos}\\left(- \\phi + \\theta_{0} + \\theta_{1}\\right) + g l_{3} m_{U} \\operatorname{cos}\\left(- \\phi + \\theta_{0} + \\theta_{1}\\right) - \\frac{l_{1} l_{2}}{2} m_{L} \\left(- \\omega_{0} - \\omega_{1} - \\omega_{2}\\right)^{2} \\operatorname{sin}\\left(\\theta_{3}\\right) - \\frac{l_{1} l_{2}}{2} m_{L} \\left(- \\omega_{0} - \\omega_{1} - \\omega_{2} - \\omega_{3}\\right)^{2} \\operatorname{sin}\\left(\\theta_{1} + \\theta_{2} + \\theta_{3}\\right) + \\frac{l_{1} l_{2}}{2} m_{L} \\left(- \\omega_{0} - \\omega_{1} - \\omega_{2} - \\omega_{3}\\right)^{2} \\operatorname{sin}\\left(\\theta_{3}\\right) + \\frac{l_{1} l_{2}}{2} m_{L} \\omega^{2}_{0} \\operatorname{sin}\\left(\\theta_{1} + \\theta_{2} + \\theta_{3}\\right) - \\frac{l_{1} l_{3}}{2} m_{L} \\left(- \\omega_{0} - \\omega_{1}\\right)^{2} \\operatorname{cos}\\left(\\theta_{2} + \\theta_{3}\\right) + \\frac{l_{1} l_{3}}{2} m_{L} \\left(- \\omega_{0} - \\omega_{1} - \\omega_{2} - \\omega_{3}\\right)^{2} \\operatorname{cos}\\left(\\theta_{2} + \\theta_{3}\\right) - l_{2}^{2} m_{L} \\left(- \\omega_{0} - \\omega_{1} - \\omega_{2}\\right)^{2} \\operatorname{sin}\\left(\\theta_{1} + \\theta_{2}\\right) + l_{2}^{2} m_{L} \\omega^{2}_{0} \\operatorname{sin}\\left(\\theta_{1} + \\theta_{2}\\right) - \\frac{l_{2}^{2} m_{U}}{2} \\left(- \\omega_{0} - \\omega_{1} - \\omega_{2}\\right)^{2} \\operatorname{sin}\\left(\\theta_{1} + \\theta_{2}\\right) + \\frac{l_{2}^{2} m_{U}}{2} \\omega^{2}_{0} \\operatorname{sin}\\left(\\theta_{1} + \\theta_{2}\\right) + \\frac{l_{2} l_{3}}{2} m_{H} \\left(- \\omega_{0} - \\omega_{1}\\right)^{2} \\operatorname{cos}\\left(\\theta_{1}\\right) - \\frac{l_{2} l_{3}}{2} m_{H} \\omega^{2}_{0} \\operatorname{cos}\\left(\\theta_{1}\\right) + l_{2} l_{3} m_{L} \\left(- \\omega_{0} - \\omega_{1}\\right)^{2} \\operatorname{cos}\\left(\\theta_{1}\\right) - l_{2} l_{3} m_{L} \\left(- \\omega_{0} - \\omega_{1}\\right)^{2} \\operatorname{cos}\\left(\\theta_{2}\\right) + l_{2} l_{3} m_{L} \\left(- \\omega_{0} - \\omega_{1} - \\omega_{2}\\right)^{2} \\operatorname{cos}\\left(\\theta_{2}\\right) - l_{2} l_{3} m_{L} \\omega^{2}_{0} \\operatorname{cos}\\left(\\theta_{1}\\right) + l_{2} l_{3} m_{U} \\left(- \\omega_{0} - \\omega_{1}\\right)^{2} \\operatorname{cos}\\left(\\theta_{1}\\right) - \\frac{l_{2} l_{3}}{2} m_{U} \\left(- \\omega_{0} - \\omega_{1}\\right)^{2} \\operatorname{cos}\\left(\\theta_{2}\\right) + \\frac{l_{2} l_{3}}{2} m_{U} \\left(- \\omega_{0} - \\omega_{1} - \\omega_{2}\\right)^{2} \\operatorname{cos}\\left(\\theta_{2}\\right) - l_{2} l_{3} m_{U} \\omega^{2}_{0} \\operatorname{cos}\\left(\\theta_{1}\\right) - T_{k0}\\\\- \\frac{g l_{1}}{2} m_{L} \\operatorname{sin}\\left(- \\phi + \\theta_{0} + \\theta_{1} + \\theta_{2} + \\theta_{3}\\right) - g l_{2} m_{L} \\operatorname{sin}\\left(- \\phi + \\theta_{0} + \\theta_{1} + \\theta_{2}\\right) - \\frac{g l_{2}}{2} m_{U} \\operatorname{sin}\\left(- \\phi + \\theta_{0} + \\theta_{1} + \\theta_{2}\\right) + \\frac{g l_{3}}{2} m_{H} \\operatorname{cos}\\left(- \\phi + \\theta_{0} + \\theta_{1}\\right) + g l_{3} m_{L} \\operatorname{cos}\\left(- \\phi + \\theta_{0} + \\theta_{1}\\right) + g l_{3} m_{U} \\operatorname{cos}\\left(- \\phi + \\theta_{0} + \\theta_{1}\\right) - \\frac{l_{1} l_{2}}{2} m_{L} \\left(- \\omega_{0} - \\omega_{1} - \\omega_{2}\\right)^{2} \\operatorname{sin}\\left(\\theta_{3}\\right) + \\frac{l_{1} l_{2}}{2} m_{L} \\left(- \\omega_{0} - \\omega_{1} - \\omega_{2} - \\omega_{3}\\right)^{2} \\operatorname{sin}\\left(\\theta_{3}\\right) + \\frac{l_{1} l_{2}}{2} m_{L} \\omega^{2}_{0} \\operatorname{sin}\\left(\\theta_{1} + \\theta_{2} + \\theta_{3}\\right) - \\frac{l_{1} l_{3}}{2} m_{L} \\left(- \\omega_{0} - \\omega_{1}\\right)^{2} \\operatorname{cos}\\left(\\theta_{2} + \\theta_{3}\\right) + \\frac{l_{1} l_{3}}{2} m_{L} \\left(- \\omega_{0} - \\omega_{1} - \\omega_{2} - \\omega_{3}\\right)^{2} \\operatorname{cos}\\left(\\theta_{2} + \\theta_{3}\\right) + l_{2}^{2} m_{L} \\omega^{2}_{0} \\operatorname{sin}\\left(\\theta_{1} + \\theta_{2}\\right) + \\frac{l_{2}^{2} m_{U}}{2} \\omega^{2}_{0} \\operatorname{sin}\\left(\\theta_{1} + \\theta_{2}\\right) - \\frac{l_{2} l_{3}}{2} m_{H} \\omega^{2}_{0} \\operatorname{cos}\\left(\\theta_{1}\\right) - l_{2} l_{3} m_{L} \\left(- \\omega_{0} - \\omega_{1}\\right)^{2} \\operatorname{cos}\\left(\\theta_{2}\\right) + l_{2} l_{3} m_{L} \\left(- \\omega_{0} - \\omega_{1} - \\omega_{2}\\right)^{2} \\operatorname{cos}\\left(\\theta_{2}\\right) - l_{2} l_{3} m_{L} \\omega^{2}_{0} \\operatorname{cos}\\left(\\theta_{1}\\right) - \\frac{l_{2} l_{3}}{2} m_{U} \\left(- \\omega_{0} - \\omega_{1}\\right)^{2} \\operatorname{cos}\\left(\\theta_{2}\\right) + \\frac{l_{2} l_{3}}{2} m_{U} \\left(- \\omega_{0} - \\omega_{1} - \\omega_{2}\\right)^{2} \\operatorname{cos}\\left(\\theta_{2}\\right) - l_{2} l_{3} m_{U} \\omega^{2}_{0} \\operatorname{cos}\\left(\\theta_{1}\\right) - T_{h0}\\\\- \\frac{g l_{1}}{2} m_{L} \\operatorname{sin}\\left(- \\phi + \\theta_{0} + \\theta_{1} + \\theta_{2} + \\theta_{3}\\right) - g l_{2} m_{L} \\operatorname{sin}\\left(- \\phi + \\theta_{0} + \\theta_{1} + \\theta_{2}\\right) - \\frac{g l_{2}}{2} m_{U} \\operatorname{sin}\\left(- \\phi + \\theta_{0} + \\theta_{1} + \\theta_{2}\\right) - \\frac{l_{1} l_{2}}{2} m_{L} \\left(- \\omega_{0} - \\omega_{1} - \\omega_{2}\\right)^{2} \\operatorname{sin}\\left(\\theta_{3}\\right) + \\frac{l_{1} l_{2}}{2} m_{L} \\left(- \\omega_{0} - \\omega_{1} - \\omega_{2} - \\omega_{3}\\right)^{2} \\operatorname{sin}\\left(\\theta_{3}\\right) + \\frac{l_{1} l_{2}}{2} m_{L} \\omega^{2}_{0} \\operatorname{sin}\\left(\\theta_{1} + \\theta_{2} + \\theta_{3}\\right) - \\frac{l_{1} l_{3}}{2} m_{L} \\left(- \\omega_{0} - \\omega_{1}\\right)^{2} \\operatorname{cos}\\left(\\theta_{2} + \\theta_{3}\\right) + l_{2}^{2} m_{L} \\omega^{2}_{0} \\operatorname{sin}\\left(\\theta_{1} + \\theta_{2}\\right) + \\frac{l_{2}^{2} m_{U}}{2} \\omega^{2}_{0} \\operatorname{sin}\\left(\\theta_{1} + \\theta_{2}\\right) - l_{2} l_{3} m_{L} \\left(- \\omega_{0} - \\omega_{1}\\right)^{2} \\operatorname{cos}\\left(\\theta_{2}\\right) - \\frac{l_{2} l_{3}}{2} m_{U} \\left(- \\omega_{0} - \\omega_{1}\\right)^{2} \\operatorname{cos}\\left(\\theta_{2}\\right) - T_{k1}\\\\- \\frac{g l_{1}}{2} m_{L} \\operatorname{sin}\\left(- \\phi + \\theta_{0} + \\theta_{1} + \\theta_{2} + \\theta_{3}\\right) - \\frac{l_{1} l_{2}}{2} m_{L} \\left(- \\omega_{0} - \\omega_{1} - \\omega_{2}\\right)^{2} \\operatorname{sin}\\left(\\theta_{3}\\right) + \\frac{l_{1} l_{2}}{2} m_{L} \\omega^{2}_{0} \\operatorname{sin}\\left(\\theta_{1} + \\theta_{2} + \\theta_{3}\\right) - \\frac{l_{1} l_{3}}{2} m_{L} \\left(- \\omega_{0} - \\omega_{1}\\right)^{2} \\operatorname{cos}\\left(\\theta_{2} + \\theta_{3}\\right) - T_{a1}\\\\0\\end{matrix}\\right]$$"
      ],
      "text/plain": [
       "Matrix([\n",
       "[                                                                                                                                                                                                                                                                                                                                                                                                                                                                                                                                                                                                                                                                                                                                                                                                                                                                                                                                                                                                                                                                                                                                                                                                                                                                                                                                                                                                                                                                                   omega0],\n",
       "[                                                                                                                                                                                                                                                                                                                                                                                                                                                                                                                                                                                                                                                                                                                                                                                                                                                                                                                                                                                                                                                                                                                                                                                                                                                                                                                                                                                                                                                                                   omega1],\n",
       "[                                                                                                                                                                                                                                                                                                                                                                                                                                                                                                                                                                                                                                                                                                                                                                                                                                                                                                                                                                                                                                                                                                                                                                                                                                                                                                                                                                                                                                                                                   omega2],\n",
       "[                                                                                                                                                                                                                                                                                                                                                                                                                                                                                                                                                                                                                                                                                                                                                                                                                                                                                                                                                                                                                                                                                                                                                                                                                                                                                                                                                                                                                                                                                   omega3],\n",
       "[                                                                                                                                                                                                                                                                                                                                                                                                                                                                                                                                                                                                                                                                                                                                                                                                                                                                                                                                                                                                                                                                                                                                                                                                                                                                                                                                                                                                                                                                                      psi],\n",
       "[-g*l1*m_L*sin(-phi + theta0 + theta1 + theta2 + theta3)/2 - g*l2*m_H*sin(phi - theta0) - g*l2*m_L*sin(phi - theta0) - g*l2*m_L*sin(-phi + theta0 + theta1 + theta2) - 3*g*l2*m_U*sin(phi - theta0)/2 - g*l2*m_U*sin(-phi + theta0 + theta1 + theta2)/2 + g*l3*m_H*cos(-phi + theta0 + theta1)/2 + g*l3*m_L*cos(-phi + theta0 + theta1) + g*l3*m_U*cos(-phi + theta0 + theta1) - l1*l2*m_L*(-omega0 - omega1 - omega2)**2*sin(theta3)/2 - l1*l2*m_L*(-omega0 - omega1 - omega2 - omega3)**2*sin(theta1 + theta2 + theta3)/2 + l1*l2*m_L*(-omega0 - omega1 - omega2 - omega3)**2*sin(theta3)/2 + l1*l2*m_L*omega0**2*sin(theta1 + theta2 + theta3)/2 - l1*l3*m_L*(-omega0 - omega1)**2*cos(theta2 + theta3)/2 + l1*l3*m_L*(-omega0 - omega1 - omega2 - omega3)**2*cos(theta2 + theta3)/2 - l2**2*m_L*(-omega0 - omega1 - omega2)**2*sin(theta1 + theta2) + l2**2*m_L*omega0**2*sin(theta1 + theta2) - l2**2*m_U*(-omega0 - omega1 - omega2)**2*sin(theta1 + theta2)/2 + l2**2*m_U*omega0**2*sin(theta1 + theta2)/2 + l2*l3*m_H*(-omega0 - omega1)**2*cos(theta1)/2 - l2*l3*m_H*omega0**2*cos(theta1)/2 + l2*l3*m_L*(-omega0 - omega1)**2*cos(theta1) - l2*l3*m_L*(-omega0 - omega1)**2*cos(theta2) + l2*l3*m_L*(-omega0 - omega1 - omega2)**2*cos(theta2) - l2*l3*m_L*omega0**2*cos(theta1) + l2*l3*m_U*(-omega0 - omega1)**2*cos(theta1) - l2*l3*m_U*(-omega0 - omega1)**2*cos(theta2)/2 + l2*l3*m_U*(-omega0 - omega1 - omega2)**2*cos(theta2)/2 - l2*l3*m_U*omega0**2*cos(theta1) - T_k0],\n",
       "[                                                                                                                                                                                                                                                                                                                                                                                                                                                             -g*l1*m_L*sin(-phi + theta0 + theta1 + theta2 + theta3)/2 - g*l2*m_L*sin(-phi + theta0 + theta1 + theta2) - g*l2*m_U*sin(-phi + theta0 + theta1 + theta2)/2 + g*l3*m_H*cos(-phi + theta0 + theta1)/2 + g*l3*m_L*cos(-phi + theta0 + theta1) + g*l3*m_U*cos(-phi + theta0 + theta1) - l1*l2*m_L*(-omega0 - omega1 - omega2)**2*sin(theta3)/2 + l1*l2*m_L*(-omega0 - omega1 - omega2 - omega3)**2*sin(theta3)/2 + l1*l2*m_L*omega0**2*sin(theta1 + theta2 + theta3)/2 - l1*l3*m_L*(-omega0 - omega1)**2*cos(theta2 + theta3)/2 + l1*l3*m_L*(-omega0 - omega1 - omega2 - omega3)**2*cos(theta2 + theta3)/2 + l2**2*m_L*omega0**2*sin(theta1 + theta2) + l2**2*m_U*omega0**2*sin(theta1 + theta2)/2 - l2*l3*m_H*omega0**2*cos(theta1)/2 - l2*l3*m_L*(-omega0 - omega1)**2*cos(theta2) + l2*l3*m_L*(-omega0 - omega1 - omega2)**2*cos(theta2) - l2*l3*m_L*omega0**2*cos(theta1) - l2*l3*m_U*(-omega0 - omega1)**2*cos(theta2)/2 + l2*l3*m_U*(-omega0 - omega1 - omega2)**2*cos(theta2)/2 - l2*l3*m_U*omega0**2*cos(theta1) - T_h0],\n",
       "[                                                                                                                                                                                                                                                                                                                                                                                                                                                                                                                                                                                                                                                                                                                                                                                                                                                                                       -g*l1*m_L*sin(-phi + theta0 + theta1 + theta2 + theta3)/2 - g*l2*m_L*sin(-phi + theta0 + theta1 + theta2) - g*l2*m_U*sin(-phi + theta0 + theta1 + theta2)/2 - l1*l2*m_L*(-omega0 - omega1 - omega2)**2*sin(theta3)/2 + l1*l2*m_L*(-omega0 - omega1 - omega2 - omega3)**2*sin(theta3)/2 + l1*l2*m_L*omega0**2*sin(theta1 + theta2 + theta3)/2 - l1*l3*m_L*(-omega0 - omega1)**2*cos(theta2 + theta3)/2 + l2**2*m_L*omega0**2*sin(theta1 + theta2) + l2**2*m_U*omega0**2*sin(theta1 + theta2)/2 - l2*l3*m_L*(-omega0 - omega1)**2*cos(theta2) - l2*l3*m_U*(-omega0 - omega1)**2*cos(theta2)/2 - T_k1],\n",
       "[                                                                                                                                                                                                                                                                                                                                                                                                                                                                                                                                                                                                                                                                                                                                                                                                                                                                                                                                                                                                                                                                                                                                                                                                                                                 -g*l1*m_L*sin(-phi + theta0 + theta1 + theta2 + theta3)/2 - l1*l2*m_L*(-omega0 - omega1 - omega2)**2*sin(theta3)/2 + l1*l2*m_L*omega0**2*sin(theta1 + theta2 + theta3)/2 - l1*l3*m_L*(-omega0 - omega1)**2*cos(theta2 + theta3)/2 - T_a1],\n",
       "[                                                                                                                                                                                                                                                                                                                                                                                                                                                                                                                                                                                                                                                                                                                                                                                                                                                                                                                                                                                                                                                                                                                                                                                                                                                                                                                                                                                                                                                                                        0]])"
      ]
     },
     "execution_count": 31,
     "metadata": {},
     "output_type": "execute_result"
    }
   ],
   "source": [
    "forcing_vector = trigsimp(kane.forcing_full)\n",
    "forcing_vector"
   ]
  },
  {
   "cell_type": "markdown",
   "metadata": {},
   "source": [
    "# Simulation"
   ]
  },
  {
   "cell_type": "code",
   "execution_count": 39,
   "metadata": {},
   "outputs": [
    {
     "data": {
      "text/plain": [
       "array([ 1.3962634, -1.3962634, -1.3962634,  1.3962634,  0.       ,\n",
       "        0.       ,  0.       ,  0.       ,  0.       ,  0.       ])"
      ]
     },
     "execution_count": 39,
     "metadata": {},
     "output_type": "execute_result"
    }
   ],
   "source": [
    "from scipy.integrate import odeint\n",
    "from sympy.utilities.codegen import codegen\n",
    "from pydy.codegen.ode_function_generators import generate_ode_function\n",
    "from matplotlib.pyplot import plot, legend, xlabel, ylabel, rcParams\n",
    "rcParams['figure.figsize'] = (14.0, 6.0)\n",
    "\n",
    "specified = [ankle_torque0, knee_torque0, hip_torque0, hip_torque1, knee_torque1, ankle_torque1]\n",
    "numerical_specified = zeros(6)\n",
    "\n",
    "x0 = zeros(10)\n",
    "x0\n",
    "\n",
    "x0[0] = deg2rad(80)\n",
    "x0[1] = -deg2rad(80)\n",
    "x0[2] = -deg2rad(80)\n",
    "x0[3] = deg2rad(80)\n",
    "x0[4] = 0\n",
    "\n",
    "x0"
   ]
  },
  {
   "cell_type": "code",
   "execution_count": 33,
   "metadata": {},
   "outputs": [
    {
     "name": "stdout",
     "output_type": "stream",
     "text": [
      "calculating jacobian for the right ankle\n"
     ]
    },
    {
     "data": {
      "text/latex": [
       "$$\\left[\\begin{matrix}- l_{1} \\operatorname{sin}\\left(- \\phi + \\theta_{0} + \\theta_{1} + \\theta_{2} + \\theta_{3}\\right) - l_{1} \\operatorname{sin}\\left(\\phi\\right) - l_{2} \\operatorname{sin}\\left(\\phi - \\theta_{0}\\right) - l_{2} \\operatorname{sin}\\left(- \\phi + \\theta_{0} + \\theta_{1} + \\theta_{2}\\right) + l_{3} \\operatorname{cos}\\left(- \\phi + \\theta_{0} + \\theta_{1}\\right)\\\\- l_{1} \\operatorname{cos}\\left(- \\phi + \\theta_{0} + \\theta_{1} + \\theta_{2} + \\theta_{3}\\right) + l_{1} \\operatorname{cos}\\left(\\phi\\right) + l_{2} \\operatorname{cos}\\left(\\phi - \\theta_{0}\\right) - l_{2} \\operatorname{cos}\\left(- \\phi + \\theta_{0} + \\theta_{1} + \\theta_{2}\\right) - l_{3} \\operatorname{sin}\\left(- \\phi + \\theta_{0} + \\theta_{1}\\right)\\end{matrix}\\right]$$"
      ],
      "text/plain": [
       "Matrix([\n",
       "[-l1*sin(-phi + theta0 + theta1 + theta2 + theta3) - l1*sin(phi) - l2*sin(phi - theta0) - l2*sin(-phi + theta0 + theta1 + theta2) + l3*cos(-phi + theta0 + theta1)],\n",
       "[-l1*cos(-phi + theta0 + theta1 + theta2 + theta3) + l1*cos(phi) + l2*cos(phi - theta0) - l2*cos(-phi + theta0 + theta1 + theta2) - l3*sin(-phi + theta0 + theta1)]])"
      ]
     },
     "execution_count": 33,
     "metadata": {},
     "output_type": "execute_result"
    }
   ],
   "source": [
    "#%% Jacobian for the right ankle, which we will try to leave where it is when\n",
    "#   moving the hip center\n",
    "print ('calculating jacobian for the right ankle')\n",
    "F0 = ankle_right.pos_from(origin).express(inertial_frame).simplify().to_matrix(inertial_frame)\n",
    "F0 = Matrix([F0[0], F0[1]])\n",
    "F0"
   ]
  },
  {
   "cell_type": "code",
   "execution_count": 34,
   "metadata": {},
   "outputs": [
    {
     "data": {
      "text/latex": [
       "$$\\left[\\begin{matrix}- l_{1} \\operatorname{cos}\\left(- \\phi + \\theta_{0} + \\theta_{1} + \\theta_{2} + \\theta_{3}\\right) + l_{2} \\operatorname{cos}\\left(\\phi - \\theta_{0}\\right) - l_{2} \\operatorname{cos}\\left(- \\phi + \\theta_{0} + \\theta_{1} + \\theta_{2}\\right) - l_{3} \\operatorname{sin}\\left(- \\phi + \\theta_{0} + \\theta_{1}\\right) & - l_{1} \\operatorname{cos}\\left(- \\phi + \\theta_{0} + \\theta_{1} + \\theta_{2} + \\theta_{3}\\right) - l_{2} \\operatorname{cos}\\left(- \\phi + \\theta_{0} + \\theta_{1} + \\theta_{2}\\right) - l_{3} \\operatorname{sin}\\left(- \\phi + \\theta_{0} + \\theta_{1}\\right) & - l_{1} \\operatorname{cos}\\left(- \\phi + \\theta_{0} + \\theta_{1} + \\theta_{2} + \\theta_{3}\\right) - l_{2} \\operatorname{cos}\\left(- \\phi + \\theta_{0} + \\theta_{1} + \\theta_{2}\\right) & - l_{1} \\operatorname{cos}\\left(- \\phi + \\theta_{0} + \\theta_{1} + \\theta_{2} + \\theta_{3}\\right) & l_{1} \\operatorname{cos}\\left(- \\phi + \\theta_{0} + \\theta_{1} + \\theta_{2} + \\theta_{3}\\right) - l_{1} \\operatorname{cos}\\left(\\phi\\right) - l_{2} \\operatorname{cos}\\left(\\phi - \\theta_{0}\\right) + l_{2} \\operatorname{cos}\\left(- \\phi + \\theta_{0} + \\theta_{1} + \\theta_{2}\\right) + l_{3} \\operatorname{sin}\\left(- \\phi + \\theta_{0} + \\theta_{1}\\right)\\\\l_{1} \\operatorname{sin}\\left(- \\phi + \\theta_{0} + \\theta_{1} + \\theta_{2} + \\theta_{3}\\right) + l_{2} \\operatorname{sin}\\left(\\phi - \\theta_{0}\\right) + l_{2} \\operatorname{sin}\\left(- \\phi + \\theta_{0} + \\theta_{1} + \\theta_{2}\\right) - l_{3} \\operatorname{cos}\\left(- \\phi + \\theta_{0} + \\theta_{1}\\right) & l_{1} \\operatorname{sin}\\left(- \\phi + \\theta_{0} + \\theta_{1} + \\theta_{2} + \\theta_{3}\\right) + l_{2} \\operatorname{sin}\\left(- \\phi + \\theta_{0} + \\theta_{1} + \\theta_{2}\\right) - l_{3} \\operatorname{cos}\\left(- \\phi + \\theta_{0} + \\theta_{1}\\right) & l_{1} \\operatorname{sin}\\left(- \\phi + \\theta_{0} + \\theta_{1} + \\theta_{2} + \\theta_{3}\\right) + l_{2} \\operatorname{sin}\\left(- \\phi + \\theta_{0} + \\theta_{1} + \\theta_{2}\\right) & l_{1} \\operatorname{sin}\\left(- \\phi + \\theta_{0} + \\theta_{1} + \\theta_{2} + \\theta_{3}\\right) & - l_{1} \\operatorname{sin}\\left(- \\phi + \\theta_{0} + \\theta_{1} + \\theta_{2} + \\theta_{3}\\right) - l_{1} \\operatorname{sin}\\left(\\phi\\right) - l_{2} \\operatorname{sin}\\left(\\phi - \\theta_{0}\\right) - l_{2} \\operatorname{sin}\\left(- \\phi + \\theta_{0} + \\theta_{1} + \\theta_{2}\\right) + l_{3} \\operatorname{cos}\\left(- \\phi + \\theta_{0} + \\theta_{1}\\right)\\end{matrix}\\right]$$"
      ],
      "text/plain": [
       "Matrix([\n",
       "[-l1*cos(-phi + theta0 + theta1 + theta2 + theta3) + l2*cos(phi - theta0) - l2*cos(-phi + theta0 + theta1 + theta2) - l3*sin(-phi + theta0 + theta1), -l1*cos(-phi + theta0 + theta1 + theta2 + theta3) - l2*cos(-phi + theta0 + theta1 + theta2) - l3*sin(-phi + theta0 + theta1), -l1*cos(-phi + theta0 + theta1 + theta2 + theta3) - l2*cos(-phi + theta0 + theta1 + theta2), -l1*cos(-phi + theta0 + theta1 + theta2 + theta3),  l1*cos(-phi + theta0 + theta1 + theta2 + theta3) - l1*cos(phi) - l2*cos(phi - theta0) + l2*cos(-phi + theta0 + theta1 + theta2) + l3*sin(-phi + theta0 + theta1)],\n",
       "[ l1*sin(-phi + theta0 + theta1 + theta2 + theta3) + l2*sin(phi - theta0) + l2*sin(-phi + theta0 + theta1 + theta2) - l3*cos(-phi + theta0 + theta1),  l1*sin(-phi + theta0 + theta1 + theta2 + theta3) + l2*sin(-phi + theta0 + theta1 + theta2) - l3*cos(-phi + theta0 + theta1),  l1*sin(-phi + theta0 + theta1 + theta2 + theta3) + l2*sin(-phi + theta0 + theta1 + theta2),  l1*sin(-phi + theta0 + theta1 + theta2 + theta3), -l1*sin(-phi + theta0 + theta1 + theta2 + theta3) - l1*sin(phi) - l2*sin(phi - theta0) - l2*sin(-phi + theta0 + theta1 + theta2) + l3*cos(-phi + theta0 + theta1)]])"
      ]
     },
     "execution_count": 34,
     "metadata": {},
     "output_type": "execute_result"
    }
   ],
   "source": [
    "J_ankleRight = F0.jacobian([theta0, theta1, theta2, theta3, phi])\n",
    "J_ankleRight"
   ]
  },
  {
   "cell_type": "code",
   "execution_count": 35,
   "metadata": {},
   "outputs": [
    {
     "data": {
      "text/latex": [
       "$$\\left[\\begin{matrix}- l_{1} \\operatorname{sin}\\left(\\phi\\right) - l_{2} \\operatorname{sin}\\left(\\phi - \\theta_{0}\\right) + \\frac{l_{3}}{2} \\operatorname{cos}\\left(- \\phi + \\theta_{0} + \\theta_{1}\\right)\\\\l_{1} \\operatorname{cos}\\left(\\phi\\right) + l_{2} \\operatorname{cos}\\left(\\phi - \\theta_{0}\\right) - \\frac{l_{3}}{2} \\operatorname{sin}\\left(- \\phi + \\theta_{0} + \\theta_{1}\\right)\\end{matrix}\\right]$$"
      ],
      "text/plain": [
       "Matrix([\n",
       "[-l1*sin(phi) - l2*sin(phi - theta0) + l3*cos(-phi + theta0 + theta1)/2],\n",
       "[ l1*cos(phi) + l2*cos(phi - theta0) - l3*sin(-phi + theta0 + theta1)/2]])"
      ]
     },
     "execution_count": 35,
     "metadata": {},
     "output_type": "execute_result"
    }
   ],
   "source": [
    "F1 = hip_center.pos_from(origin).express(inertial_frame).simplify().to_matrix(inertial_frame)\n",
    "F1 = Matrix([F1[0], F1[1]])\n",
    "F1"
   ]
  },
  {
   "cell_type": "code",
   "execution_count": 36,
   "metadata": {},
   "outputs": [
    {
     "data": {
      "text/latex": [
       "$$\\left[\\begin{matrix}l_{2} \\operatorname{cos}\\left(\\phi - \\theta_{0}\\right) - \\frac{l_{3}}{2} \\operatorname{sin}\\left(- \\phi + \\theta_{0} + \\theta_{1}\\right) & - \\frac{l_{3}}{2} \\operatorname{sin}\\left(- \\phi + \\theta_{0} + \\theta_{1}\\right) & 0 & 0 & - l_{1} \\operatorname{cos}\\left(\\phi\\right) - l_{2} \\operatorname{cos}\\left(\\phi - \\theta_{0}\\right) + \\frac{l_{3}}{2} \\operatorname{sin}\\left(- \\phi + \\theta_{0} + \\theta_{1}\\right)\\\\l_{2} \\operatorname{sin}\\left(\\phi - \\theta_{0}\\right) - \\frac{l_{3}}{2} \\operatorname{cos}\\left(- \\phi + \\theta_{0} + \\theta_{1}\\right) & - \\frac{l_{3}}{2} \\operatorname{cos}\\left(- \\phi + \\theta_{0} + \\theta_{1}\\right) & 0 & 0 & - l_{1} \\operatorname{sin}\\left(\\phi\\right) - l_{2} \\operatorname{sin}\\left(\\phi - \\theta_{0}\\right) + \\frac{l_{3}}{2} \\operatorname{cos}\\left(- \\phi + \\theta_{0} + \\theta_{1}\\right)\\end{matrix}\\right]$$"
      ],
      "text/plain": [
       "Matrix([\n",
       "[l2*cos(phi - theta0) - l3*sin(-phi + theta0 + theta1)/2, -l3*sin(-phi + theta0 + theta1)/2, 0, 0, -l1*cos(phi) - l2*cos(phi - theta0) + l3*sin(-phi + theta0 + theta1)/2],\n",
       "[l2*sin(phi - theta0) - l3*cos(-phi + theta0 + theta1)/2, -l3*cos(-phi + theta0 + theta1)/2, 0, 0, -l1*sin(phi) - l2*sin(phi - theta0) + l3*cos(-phi + theta0 + theta1)/2]])"
      ]
     },
     "execution_count": 36,
     "metadata": {},
     "output_type": "execute_result"
    }
   ],
   "source": [
    "J_hipCenter = F1.jacobian([theta0, theta1, theta2, theta3, phi])\n",
    "J_hipCenter"
   ]
  },
  {
   "cell_type": "code",
   "execution_count": 37,
   "metadata": {},
   "outputs": [
    {
     "data": {
      "text/latex": [
       "$$\\left ( 4, \\quad 5\\right )$$"
      ],
      "text/plain": [
       "(4, 5)"
      ]
     },
     "execution_count": 37,
     "metadata": {},
     "output_type": "execute_result"
    }
   ],
   "source": [
    "#%% we stack the two jacobians\n",
    "J = J_ankleRight.col_join(J_hipCenter)\n",
    "J.shape"
   ]
  },
  {
   "cell_type": "code",
   "execution_count": 40,
   "metadata": {},
   "outputs": [
    {
     "data": {
      "text/latex": [
       "$$\\left[\\begin{matrix}-0.0459332479170267 & 0.219478074655015 & -2.3994104929455 & -2.31969900118024\\\\0.235092856483776 & -1.12331981399207 & -0.514831317577474 & 1.87254742697749\\\\-0.235092856483778 & -0.757099837648197 & 0.514831317577473 & 1.88829187630304\\\\-2.45406675208297 & 2.10175902875642 & 2.39941049294551 & -2.32277520564262\\\\-0.00872301122043817 & 0.0416802598264825 & -2.48089742314152 & -0.440525356532326\\end{matrix}\\right]$$"
      ],
      "text/plain": [
       "Matrix([\n",
       "[ -0.0459332479170267,  0.219478074655015,   -2.3994104929455,  -2.31969900118024],\n",
       "[   0.235092856483776,  -1.12331981399207, -0.514831317577474,   1.87254742697749],\n",
       "[  -0.235092856483778, -0.757099837648197,  0.514831317577473,   1.88829187630304],\n",
       "[   -2.45406675208297,   2.10175902875642,   2.39941049294551,  -2.32277520564262],\n",
       "[-0.00872301122043817, 0.0416802598264825,  -2.48089742314152, -0.440525356532326]])"
      ]
     },
     "execution_count": 40,
     "metadata": {},
     "output_type": "execute_result"
    }
   ],
   "source": [
    "#%% lets try the pseudo inverse with a couple of real values\n",
    "values = {lower_leg_length: 0.4, upper_leg_length: 0.54, hip_length: 0.2, theta0: x0[0], theta1: x0[1], theta2: x0[2], theta3: x0[3], phi: x0[4]}\n",
    "Jpinv = J.subs(values).evalf().pinv()\n",
    "Jpinv"
   ]
  },
  {
   "cell_type": "code",
   "execution_count": 41,
   "metadata": {},
   "outputs": [
    {
     "data": {
      "text/latex": [
       "$$\\left[\\begin{matrix}- l_{1} \\operatorname{sin}\\left(- \\phi + \\theta_{0} + \\theta_{1} + \\theta_{2} + \\theta_{3}\\right) - l_{1} \\operatorname{sin}\\left(\\phi\\right) - l_{2} \\operatorname{sin}\\left(\\phi - \\theta_{0}\\right) - l_{2} \\operatorname{sin}\\left(- \\phi + \\theta_{0} + \\theta_{1} + \\theta_{2}\\right) + l_{3} \\operatorname{cos}\\left(- \\phi + \\theta_{0} + \\theta_{1}\\right)\\\\- l_{1} \\operatorname{cos}\\left(- \\phi + \\theta_{0} + \\theta_{1} + \\theta_{2} + \\theta_{3}\\right) + l_{1} \\operatorname{cos}\\left(\\phi\\right) + l_{2} \\operatorname{cos}\\left(\\phi - \\theta_{0}\\right) - l_{2} \\operatorname{cos}\\left(- \\phi + \\theta_{0} + \\theta_{1} + \\theta_{2}\\right) - l_{3} \\operatorname{sin}\\left(- \\phi + \\theta_{0} + \\theta_{1}\\right)\\\\- l_{1} \\operatorname{sin}\\left(\\phi\\right) - l_{2} \\operatorname{sin}\\left(\\phi - \\theta_{0}\\right) + \\frac{l_{3}}{2} \\operatorname{cos}\\left(- \\phi + \\theta_{0} + \\theta_{1}\\right)\\\\l_{1} \\operatorname{cos}\\left(\\phi\\right) + l_{2} \\operatorname{cos}\\left(\\phi - \\theta_{0}\\right) - \\frac{l_{3}}{2} \\operatorname{sin}\\left(- \\phi + \\theta_{0} + \\theta_{1}\\right)\\end{matrix}\\right]$$"
      ],
      "text/plain": [
       "Matrix([\n",
       "[-l1*sin(-phi + theta0 + theta1 + theta2 + theta3) - l1*sin(phi) - l2*sin(phi - theta0) - l2*sin(-phi + theta0 + theta1 + theta2) + l3*cos(-phi + theta0 + theta1)],\n",
       "[-l1*cos(-phi + theta0 + theta1 + theta2 + theta3) + l1*cos(phi) + l2*cos(phi - theta0) - l2*cos(-phi + theta0 + theta1 + theta2) - l3*sin(-phi + theta0 + theta1)],\n",
       "[                                                                                           -l1*sin(phi) - l2*sin(phi - theta0) + l3*cos(-phi + theta0 + theta1)/2],\n",
       "[                                                                                            l1*cos(phi) + l2*cos(phi - theta0) - l3*sin(-phi + theta0 + theta1)/2]])"
      ]
     },
     "execution_count": 41,
     "metadata": {},
     "output_type": "execute_result"
    }
   ],
   "source": [
    "#%% we stack the two endeffektor points, which we will evaluate in the integration\n",
    "F2 = F0.col_join(F1)\n",
    "F2"
   ]
  },
  {
   "cell_type": "code",
   "execution_count": 42,
   "metadata": {
    "collapsed": true
   },
   "outputs": [],
   "source": [
    "#%% this defines how long you want to simulate, we simulate for one second with 30 fps\n",
    "#   simulation can take quite a while...\n",
    "frames_per_sec = 30\n",
    "final_time = 1\n",
    "\n",
    "t = linspace(0.0, final_time, final_time * frames_per_sec)"
   ]
  },
  {
   "cell_type": "code",
   "execution_count": 43,
   "metadata": {},
   "outputs": [
    {
     "data": {
      "text/plain": [
       "array([ 0.42,  0.54,  0.2 ,  1.  ,  1.5 ,  2.  ,  0.1 ,  0.2 ,  0.1 ,  9.81])"
      ]
     },
     "execution_count": 43,
     "metadata": {},
     "output_type": "execute_result"
    }
   ],
   "source": [
    "numerical_constants = array([0.42,  # lower_leg_length [m]\n",
    "                             0.54, # upper_leg_length [m]\n",
    "                             0.2, # hip_length\n",
    "                                                          \n",
    "                             1.0,  # lower_leg_mass [kg]\n",
    "                             1.5,  # upper_leg_mass [kg]\n",
    "                             2.0,  # hip_mass [kg]\n",
    "                             \n",
    "                             0.1,  # lower_leg_inertia [kg*m^2]                             \n",
    "                             0.2,  # upper_leg_inertia [kg*m^2]\n",
    "                             0.1,  # hip_inertia [kg*m^2]\n",
    "                             \n",
    "                             9.81],  # acceleration due to gravity [m/s^2]\n",
    "                            ) \n",
    "numerical_constants"
   ]
  },
  {
   "cell_type": "code",
   "execution_count": 44,
   "metadata": {},
   "outputs": [
    {
     "data": {
      "text/latex": [
       "$$\\left [ l_{1}, \\quad l_{2}, \\quad l_{3}, \\quad m_{L}, \\quad m_{U}, \\quad m_{H}, \\quad I_{Lz}, \\quad I_{Uz}, \\quad I_{Hz}, \\quad g\\right ]$$"
      ],
      "text/plain": [
       "[l1, l2, l3, m_L, m_U, m_H, I_Lz, I_Uz, I_Hz, g]"
      ]
     },
     "execution_count": 44,
     "metadata": {},
     "output_type": "execute_result"
    }
   ],
   "source": [
    "constants = [lower_leg_length,\n",
    "             upper_leg_length,\n",
    "             hip_length,\n",
    "             \n",
    "             lower_leg_mass,\n",
    "             upper_leg_mass,\n",
    "             hip_mass,\n",
    "             \n",
    "             lower_leg_inertia,\n",
    "             upper_leg_inertia,\n",
    "             hip_inertia,\n",
    "             \n",
    "             g]\n",
    "constants"
   ]
  },
  {
   "cell_type": "code",
   "execution_count": 45,
   "metadata": {},
   "outputs": [
    {
     "data": {
      "text/plain": [
       "array([ 1.3962634, -1.3962634, -1.3962634,  1.3962634,  0.       ,\n",
       "        0.       ,  0.       ,  0.       ,  0.       ,  0.       ])"
      ]
     },
     "execution_count": 45,
     "metadata": {},
     "output_type": "execute_result"
    }
   ],
   "source": [
    "#%%\n",
    "x0 = zeros(10)\n",
    "x0\n",
    "\n",
    "x0[0] = deg2rad(80)\n",
    "x0[1] = -deg2rad(80)\n",
    "x0[2] = -deg2rad(80)\n",
    "x0[3] = deg2rad(80)\n",
    "x0[4] = 0\n",
    "\n",
    "x0"
   ]
  },
  {
   "cell_type": "code",
   "execution_count": 46,
   "metadata": {
    "collapsed": true
   },
   "outputs": [],
   "source": [
    "\n",
    "#%% Use this for full kinematics simulation\n",
    "#right_hand_side = generate_ode_function(forcing_vector, coordinates, speeds, \n",
    "#                                        constants, mass_matrix=mass_matrix, \n",
    "#                                        specifieds=specified, generator='cython')\n",
    "#\n",
    "#args = {'constants': numerical_constants,\n",
    "#        'specified': numerical_specified}\n",
    "#                                        \n",
    "#right_hand_side(x0, 0.0, numerical_specified, numerical_constants)        \n",
    "##%%\n",
    "#y = odeint(right_hand_side, x0, t, args=(numerical_specified, numerical_constants))\n",
    "#y\n",
    "\n",
    "\n",
    "#%% only useful when you want to simulate full kinematics, use in right_hand_side equation\n",
    "#from sympy import lambdify, solve\n",
    "#M_func = lambdify(coordinates + speeds + constants + specified, mass_matrix) # Create a callable function to evaluate the mass matrix \n",
    "#f_func = lambdify(coordinates + speeds + constants + specified, forcing_vector)     # Create a callable function to evaluate the forcing vector       \n",
    "#%% inverse kinematics gains, you can balance here how much the respective \n",
    "#   targets should be tried to reach\n",
    "kp = np.eye(4)\n",
    "kp[0,0] = 10\n",
    "kp[1,1] = 10\n",
    "kp[2,2] = 10\n",
    "kp[3,3] = 10\n",
    "kp\n",
    "#%%\n",
    "kpN = np.zeros((4,4),dtype=float)\n",
    "kpN[1,1] = 10\n",
    "kpN\n",
    "#%% These are our target points\n",
    "L = 1 # this defines how far apart the left and right ankle should be, y=0 so the \n",
    "      # foot does not lift of the ground\n",
    "      # the last two values are x and y coordinates for the hip center\n",
    "x_des = Matrix([L,0,0.7,0.1])\n",
    "x_des.shape\n",
    "#%% This is the intergration function (the inverse kinematics)\n",
    "#   I highly recommend you have a look at this textbook http://smpp.northwestern.edu/savedLiterature/Spong_Textbook.pdf\n",
    "#   especially chapter 5.10 Inverse Velocity and Acceleration\n",
    "i = 0\n",
    "def right_hand_side(x, t, args):\n",
    "    \"\"\"Returns the derivatives of the states.\n",
    "\n",
    "    Parameters\n",
    "    ----------\n",
    "    x : ndarray, shape(2 * (n + 1))\n",
    "        The current state vector.\n",
    "    t : float\n",
    "        The current time.\n",
    "    args : ndarray\n",
    "        The constants.\n",
    "\n",
    "    Returns\n",
    "    -------\n",
    "    dx : ndarray, shape(2 * (n + 1))\n",
    "        The derivative of the state.\n",
    "    \n",
    "    \"\"\"\n",
    "    global i\n",
    "    r = 0.0                                  # The input force is always zero     \n",
    "    arguments = np.hstack((x, args))      # States, input, and parameters\n",
    "    values = {lower_leg_length: 0.4, upper_leg_length: 0.54, hip_length: 0.2, \n",
    "              theta0: x[0], theta1: x[1], theta2: x[2], theta3: x[3], phi: x[4],\n",
    "                omega0: 0, omega1: 0, omega2: 0, omega3: 0, psi: 0}\n",
    "    Jpinv = J.subs(values).evalf().pinv()\n",
    "    # use this for nullspace movements\n",
    "#    N=np.eye(4)-Jpinv*J.subs(values).evalf()\n",
    "    x_current = F2.subs(values).evalf()                                         # use this for nullspace movements\n",
    "    dq = np.array(Jpinv*(kp*( x_des - x_current ))).astype(float).T[0]# + N*(kpN*(Matrix([0,-deg2rad(80),0,0,0])-Matrix([x[0],x[1],x[2],x[3])))).astype(float).T[0]\n",
    "    dq = np.hstack((dq,np.zeros(5,dtype=float)))\n",
    "    if i%10==0:\n",
    "        print(x_current)\n",
    "    i = i+1\n",
    "    return dq\n",
    "    # use this for full kinematic simulation\n",
    "#    dq = np.array(np.linalg.solve(M_func(*arguments),  # Solving for the derivatives\n",
    "#                  f_func(*arguments))).T[0]\n",
    "#    return dq"
   ]
  },
  {
   "cell_type": "code",
   "execution_count": 47,
   "metadata": {},
   "outputs": [
    {
     "name": "stdout",
     "output_type": "stream",
     "text": [
      "integrating\n",
      "Matrix([[1.26359237325318], [0], [0.631796186626592], [0.493770015940142]])\n",
      "Matrix([[1.26175159570018], [6.37010906447567e-9], [0.632272477736748], [0.491020164371748]])\n",
      "Matrix([[1.25528230436820], [-8.25783376997690e-9], [0.633946400654344], [0.481355924543045]])\n",
      "Matrix([[1.24204513938050], [-4.32124976079695e-9], [0.637371479067839], [0.461581463804779]])\n",
      "Matrix([[1.22016985269966], [-7.65121452371391e-9], [0.643031651745630], [0.428902850571606]])\n",
      "Matrix([[1.19347469825923], [-4.40686484179387e-9], [0.649938948994721], [0.389024040678037]])\n",
      "Matrix([[1.16441873966249], [-1.32369283719833e-9], [0.657457097886850], [0.345618520687556]])\n",
      "Matrix([[1.13086159526863], [3.19119596654989e-9], [0.666139915607050], [0.295488862780702]])\n",
      "Matrix([[1.09762332427629], [8.60721838030418e-9], [0.674740225069592], [0.245835558050327]])\n",
      "Matrix([[1.06845152046108], [1.41858201431304e-8], [0.682288346687779], [0.202256984915244]])\n",
      "Matrix([[1.04481151791494], [1.23655330506317e-8], [0.688405133486092], [0.166942137274830]])\n",
      "Matrix([[1.02579277469106], [2.67137921592525e-9], [0.693326187989628], [0.138530789666744]])\n",
      "Matrix([[1.01358973421518], [-1.82801794187948e-9], [0.696483696012692], [0.120301150837070]])\n",
      "Matrix([[1.00627090789950], [-6.78787654556645e-10], [0.698377421556476], [0.109367853168821]])\n",
      "Matrix([[1.00242339361369], [-1.00974011790766e-9], [0.699372955849698], [0.103620206981665]])\n",
      "Matrix([[1.00085360468088], [-8.53671905734488e-10], [0.699779133163587], [0.101275165217524]])\n",
      "Matrix([[1.00024778277731], [2.14709708346028e-10], [0.699935886932838], [0.100370152121145]])\n",
      "Matrix([[1.00006920332609], [4.67516945296120e-11], [0.699982093856457], [0.100103379898465]])\n",
      "Matrix([[1.00001656522374], [-1.12818834135942e-11], [0.699995713807771], [0.100024746112718]])\n",
      "[[ 1.3962634  -1.3962634  -1.3962634   1.3962634   0.          0.          0.\n",
      "   0.          0.          0.        ]\n",
      " [ 1.58082794 -1.62016678 -1.57321165  1.84765989 -0.03033541  0.          0.\n",
      "   0.          0.          0.        ]\n",
      " [ 1.67079324 -1.76233809 -1.68716838  2.12830504 -0.088468    0.          0.\n",
      "   0.          0.          0.        ]\n",
      " [ 1.71531961 -1.85578284 -1.76218806  2.31695656 -0.14682271  0.          0.\n",
      "   0.          0.          0.        ]\n",
      " [ 1.73730152 -1.91741631 -1.81150631  2.44799534 -0.19618586  0.          0.\n",
      "   0.          0.          0.        ]\n",
      " [ 1.74806591 -1.9579694  -1.84371585  2.54052487 -0.23486065  0.          0.\n",
      "   0.          0.          0.        ]\n",
      " [ 1.75326896 -1.98459453 -1.86464227  2.60641834 -0.26395708  0.          0.\n",
      "   0.          0.          0.        ]\n",
      " [ 1.75573295 -2.00208225 -1.87822052  2.65352561 -0.28534559  0.          0.\n",
      "   0.          0.          0.        ]\n",
      " [ 1.75686168 -2.01361142 -1.8870601   2.68723902 -0.30085218  0.          0.\n",
      "   0.          0.          0.        ]\n",
      " [ 1.7573498  -2.02126402 -1.89285726  2.71135407 -0.31199988  0.          0.\n",
      "   0.          0.          0.        ]\n",
      " [ 1.75753831 -2.0263886  -1.89669765  2.7285809  -0.31997206  0.          0.\n",
      "   0.          0.          0.        ]\n",
      " [ 1.75759247 -2.02985352 -1.8992705   2.74086793 -0.32565456  0.          0.\n",
      "   0.          0.          0.        ]\n",
      " [ 1.75759082 -2.0322183  -1.90101329  2.74961855 -0.32969648  0.          0.\n",
      "   0.          0.          0.        ]\n",
      " [ 1.75756949 -2.03384574 -1.90220558  2.75584256 -0.33256757  0.          0.\n",
      "   0.          0.          0.        ]\n",
      " [ 1.75754423 -2.03497359 -1.90302811  2.76026484 -0.33460516  0.          0.\n",
      "   0.          0.          0.        ]\n",
      " [ 1.75752123 -2.0357596  -1.90359937  2.7634044  -0.33605036  0.          0.\n",
      "   0.          0.          0.        ]\n",
      " [ 1.75750238 -2.03630975 -1.90399819  2.76563194 -0.33707498  0.          0.\n",
      "   0.          0.          0.        ]\n",
      " [ 1.75748773 -2.03669608 -1.90427773  2.76721166 -0.33780123  0.          0.\n",
      "   0.          0.          0.        ]\n",
      " [ 1.75747671 -2.03696802 -1.90447424  2.7683316  -0.33831589  0.          0.\n",
      "   0.          0.          0.        ]\n",
      " [ 1.75746858 -2.03715978 -1.90461268  2.76912538 -0.33868056  0.          0.\n",
      "   0.          0.          0.        ]\n",
      " [ 1.75746266 -2.03729517 -1.90471035  2.76968789 -0.33893892  0.          0.\n",
      "   0.          0.          0.        ]\n",
      " [ 1.75745838 -2.03739086 -1.90477935  2.77008646 -0.33912196  0.          0.\n",
      "   0.          0.          0.        ]\n",
      " [ 1.75745531 -2.03745853 -1.90482812  2.77036885 -0.33925163  0.          0.\n",
      "   0.          0.          0.        ]\n",
      " [ 1.75745311 -2.03750641 -1.90486262  2.77056891 -0.33934349  0.          0.\n",
      "   0.          0.          0.        ]\n",
      " [ 1.75745155 -2.03754029 -1.90488704  2.77071064 -0.33940856  0.          0.\n",
      "   0.          0.          0.        ]\n",
      " [ 1.75745043 -2.03756428 -1.90490432  2.77081103 -0.33945465  0.          0.\n",
      "   0.          0.          0.        ]\n",
      " [ 1.75744964 -2.03758126 -1.90491655  2.77088215 -0.3394873   0.          0.\n",
      "   0.          0.          0.        ]\n",
      " [ 1.75744908 -2.03759329 -1.90492521  2.77093253 -0.33951043  0.          0.\n",
      "   0.          0.          0.        ]\n",
      " [ 1.75744868 -2.03760181 -1.90493135  2.77096822 -0.33952681  0.          0.\n",
      "   0.          0.          0.        ]\n",
      " [ 1.7574484  -2.03760784 -1.90493569  2.77099349 -0.33953841  0.          0.\n",
      "   0.          0.          0.        ]]\n",
      "done integrating\n"
     ]
    }
   ],
   "source": [
    "#%% Ok lets simulate\n",
    "print('integrating')\n",
    "args = (np.hstack((numerical_constants,)),)\n",
    "y = odeint(right_hand_side, x0, t, args)#,full_output = 1,mxstep=1000000\n",
    "#y = np.hstack((y,np.zeros(y.shape)))\n",
    "print(y)\n",
    "print('done integrating')"
   ]
  },
  {
   "cell_type": "code",
   "execution_count": 48,
   "metadata": {},
   "outputs": [
    {
     "name": "stdout",
     "output_type": "stream",
     "text": [
      "Plotting\n"
     ]
    },
    {
     "data": {
      "text/plain": [
       "<matplotlib.legend.Legend at 0x7f46cc386790>"
      ]
     },
     "execution_count": 48,
     "metadata": {},
     "output_type": "execute_result"
    }
   ],
   "source": [
    "#%% Plot \n",
    "# here we plot a little\n",
    "print(\"Plotting\")\n",
    "plot(t, rad2deg(y[:, :5]))\n",
    "xlabel('Time [s]')\n",
    "ylabel('Angle [deg]')\n",
    "legend([\"${}$\".format(vlatex(c)) for c in coordinates])"
   ]
  },
  {
   "cell_type": "markdown",
   "metadata": {},
   "source": [
    "# Visualization"
   ]
  },
  {
   "cell_type": "code",
   "execution_count": 49,
   "metadata": {},
   "outputs": [
    {
     "name": "stdout",
     "output_type": "stream",
     "text": [
      "/home/letrend/workspace/roboy-ros-control/python/pydy-resources\n",
      "('Serving HTTP on', '127.0.0.1', 'port', 8001, '...')\n",
      "To view visualization, open:\n",
      "\n",
      "http://localhost:8001/index.html?load=2017-06-28_02-51-33_scene_desc.json\n",
      "Press Ctrl+C to stop server...\n"
     ]
    }
   ],
   "source": [
    "from pydy.viz.shapes import Cylinder, Sphere\n",
    "from pydy.viz.scene import Scene\n",
    "from pydy.viz.visualization_frame import VisualizationFrame\n",
    "\n",
    "# stack the lengths and use the bodies from kinematics\n",
    "lengths = [lower_leg_length, upper_leg_length, hip_length, hip_length, hip_length, upper_leg_length, lower_leg_length]\n",
    "bodies = [lower_leg_left, upper_leg_left, hip, hip, hip, upper_leg_right, lower_leg_right]\n",
    "\n",
    "viz_frames = []\n",
    "colors = ['yellow','green','red','red','red','green','blue']\n",
    "\n",
    "for i, (body, particle, mass_center) in enumerate(zip(bodies, particles, mass_centers)):\n",
    "#        body_shape = Cylinder(name='cylinder{}'.format(i),\n",
    "#                              radius=0.05,\n",
    "#                              length=lengths[i],\n",
    "#                              color='red')\n",
    "#    \n",
    "#        viz_frames.append(VisualizationFrame('link_frame{}'.format(i), body,\n",
    "#                                             body_shape))\n",
    "            \n",
    "    particle_shape = Sphere(name='sphere{}'.format(i),\n",
    "                            radius=0.06,\n",
    "                            color=colors[i])\n",
    "                            \n",
    "    \n",
    "    viz_frames.append(VisualizationFrame('particle_frame{}'.format(i),\n",
    "                                         body.frame,\n",
    "                                         particle,\n",
    "                                         particle_shape))\n",
    "                                         \n",
    "    mass_center_shape = Sphere(name='sphere{}'.format(i),\n",
    "                            radius=0.02,\n",
    "                            color='black')\n",
    "                                         \n",
    "    viz_frames.append(VisualizationFrame('mass_center_frame{}'.format(i),\n",
    "                                         body.frame,\n",
    "                                         mass_center,\n",
    "                                         mass_center_shape))\n",
    "                                             \n",
    "target_shape = Sphere(name='sphere{}'.format(i),\n",
    "                            radius=0.02,\n",
    "                            color='green')    \n",
    "\n",
    "target_right_leg = Point('target_right_leg')\n",
    "target_right_leg.set_pos(origin, (x_des[2] * inertial_frame.x)+(x_des[3] * inertial_frame.y))                              \n",
    "\n",
    "                                     \n",
    "viz_frames.append(VisualizationFrame('target_frame_right',\n",
    "                                     inertial_frame,\n",
    "                                     target_right_leg,\n",
    "                                     target_shape))\n",
    "\n",
    "## Now the visualization frames can be passed in to create a scene.\n",
    "scene = Scene(inertial_frame, origin, *viz_frames)\n",
    "\n",
    "# Provide the data to compute the trajectories of the visualization frames.\n",
    "scene.constants = dict(zip(constants, numerical_constants))\n",
    "scene.states_symbols = coordinates+speeds\n",
    "scene.states_trajectories = y\n",
    "\n",
    "scene.display()"
   ]
  },
  {
   "cell_type": "markdown",
   "metadata": {},
   "source": [
    "# export to c header"
   ]
  },
  {
   "cell_type": "code",
   "execution_count": 50,
   "metadata": {},
   "outputs": [
    {
     "name": "stderr",
     "output_type": "stream",
     "text": [
      "127.0.0.1 - - [28/Jun/2017 02:51:40] \"GET /index.html?load=2017-06-28_02-51-33_scene_desc.json HTTP/1.1\" 200 -\n",
      "127.0.0.1 - - [28/Jun/2017 02:51:40] \"GET /css/bootstrap.min.css HTTP/1.1\" 200 -\n",
      "127.0.0.1 - - [28/Jun/2017 02:51:40] \"GET /css/slider.css HTTP/1.1\" 200 -\n",
      "127.0.0.1 - - [28/Jun/2017 02:51:40] \"GET /css/main.css HTTP/1.1\" 200 -\n",
      "127.0.0.1 - - [28/Jun/2017 02:51:40] \"GET /css/codemirror/codemirror.css HTTP/1.1\" 200 -\n",
      "127.0.0.1 - - [28/Jun/2017 02:51:40] \"GET /css/codemirror/blackboard.css HTTP/1.1\" 200 -\n",
      "127.0.0.1 - - [28/Jun/2017 02:51:40] \"GET /js/external/jquery/jquery.min.js HTTP/1.1\" 200 -\n",
      "127.0.0.1 - - [28/Jun/2017 02:51:40] \"GET /js/external/jquery/jquery-ui.js HTTP/1.1\" 200 -\n",
      "127.0.0.1 - - [28/Jun/2017 02:51:40] \"GET /js/external/bootstrap/bootstrap.min.js HTTP/1.1\" 200 -\n",
      "127.0.0.1 - - [28/Jun/2017 02:51:40] \"GET /js/external/codemirror/codemirror.js HTTP/1.1\" 200 -\n",
      "127.0.0.1 - - [28/Jun/2017 02:51:40] \"GET /js/external/codemirror/javascript-mode.js HTTP/1.1\" 200 -\n",
      "127.0.0.1 - - [28/Jun/2017 02:51:40] \"GET /js/external/three/three.min.js HTTP/1.1\" 200 -\n",
      "127.0.0.1 - - [28/Jun/2017 02:51:40] \"GET /js/external/three/TrackballControls.js HTTP/1.1\" 200 -\n",
      "127.0.0.1 - - [28/Jun/2017 02:51:40] \"GET /js/external/utils/bootstrap-slider.js HTTP/1.1\" 200 -\n",
      "127.0.0.1 - - [28/Jun/2017 02:51:40] \"GET /js/external/utils/modernizr-2.0.6.js HTTP/1.1\" 200 -\n",
      "127.0.0.1 - - [28/Jun/2017 02:51:40] \"GET /js/external/utils/prototype.js HTTP/1.1\" 200 -\n",
      "127.0.0.1 - - [28/Jun/2017 02:51:40] \"GET /js/dyviz/dv.js HTTP/1.1\" 200 -\n",
      "127.0.0.1 - - [28/Jun/2017 02:51:40] \"GET /js/dyviz/scene.js HTTP/1.1\" 200 -\n",
      "127.0.0.1 - - [28/Jun/2017 02:51:40] \"GET /js/dyviz/parser.js HTTP/1.1\" 200 -\n",
      "127.0.0.1 - - [28/Jun/2017 02:51:40] \"GET /js/dyviz/param_editor.js HTTP/1.1\" 200 -\n",
      "127.0.0.1 - - [28/Jun/2017 02:51:40] \"GET /js/dyviz/materials.js HTTP/1.1\" 200 -\n",
      "127.0.0.1 - - [28/Jun/2017 02:51:40] \"GET /js/dyviz/main.js HTTP/1.1\" 200 -\n",
      "127.0.0.1 - - [28/Jun/2017 02:51:41] code 404, message File not found\n",
      "127.0.0.1 - - [28/Jun/2017 02:51:41] \"GET /fonts/glyphicons-halflings-regular.woff2 HTTP/1.1\" 404 -\n",
      "127.0.0.1 - - [28/Jun/2017 02:51:41] \"GET /2017-06-28_02-51-33_scene_desc.json HTTP/1.1\" 200 -\n",
      "127.0.0.1 - - [28/Jun/2017 02:51:41] \"GET /fonts/glyphicons-halflings-regular.woff HTTP/1.1\" 200 -\n",
      "127.0.0.1 - - [28/Jun/2017 02:51:41] \"GET /2017-06-28_02-51-33_simulation_data.json HTTP/1.1\" 200 -\n"
     ]
    },
    {
     "name": "stdout",
     "output_type": "stream",
     "text": [
      "/******************************************************************************\n",
      " *                       Code generated with sympy 1.0                        *\n",
      " *                                                                            *\n",
      " *              See http://www.sympy.org/ for more information.               *\n",
      " *                                                                            *\n",
      " *               This file is part of 'PaBiRoboy_DanceControl'                *\n",
      " ******************************************************************************/\n",
      "#include \"PaBiRoboy_DanceControl.h\"\n",
      "#include <math.h>\n",
      "void Jacobian(double *out_7040956801295068946) {\n",
      "   out_7040956801295068946[0] = -l1*cos(-phi(t) + theta0(t) + theta1(t) + theta2(t) + theta3(t)) + l2*cos(phi(t) - theta0(t)) - l2*cos(-phi(t) + theta0(t) + theta1(t) + theta2(t)) - l3*sin(-phi(t) + theta0(t) + theta1(t));\n",
      "   out_7040956801295068946[1] = -l1*cos(-phi(t) + theta0(t) + theta1(t) + theta2(t) + theta3(t)) - l2*cos(-phi(t) + theta0(t) + theta1(t) + theta2(t)) - l3*sin(-phi(t) + theta0(t) + theta1(t));\n",
      "   out_7040956801295068946[2] = -l1*cos(-phi(t) + theta0(t) + theta1(t) + theta2(t) + theta3(t)) - l2*cos(-phi(t) + theta0(t) + theta1(t) + theta2(t));\n",
      "   out_7040956801295068946[3] = -l1*cos(-phi(t) + theta0(t) + theta1(t) + theta2(t) + theta3(t));\n",
      "   out_7040956801295068946[4] = l1*cos(-phi(t) + theta0(t) + theta1(t) + theta2(t) + theta3(t)) - l1*cos(phi(t)) - l2*cos(phi(t) - theta0(t)) + l2*cos(-phi(t) + theta0(t) + theta1(t) + theta2(t)) + l3*sin(-phi(t) + theta0(t) + theta1(t));\n",
      "   out_7040956801295068946[5] = l1*sin(-phi(t) + theta0(t) + theta1(t) + theta2(t) + theta3(t)) + l2*sin(phi(t) - theta0(t)) + l2*sin(-phi(t) + theta0(t) + theta1(t) + theta2(t)) - l3*cos(-phi(t) + theta0(t) + theta1(t));\n",
      "   out_7040956801295068946[6] = l1*sin(-phi(t) + theta0(t) + theta1(t) + theta2(t) + theta3(t)) + l2*sin(-phi(t) + theta0(t) + theta1(t) + theta2(t)) - l3*cos(-phi(t) + theta0(t) + theta1(t));\n",
      "   out_7040956801295068946[7] = l1*sin(-phi(t) + theta0(t) + theta1(t) + theta2(t) + theta3(t)) + l2*sin(-phi(t) + theta0(t) + theta1(t) + theta2(t));\n",
      "   out_7040956801295068946[8] = l1*sin(-phi(t) + theta0(t) + theta1(t) + theta2(t) + theta3(t));\n",
      "   out_7040956801295068946[9] = -l1*sin(-phi(t) + theta0(t) + theta1(t) + theta2(t) + theta3(t)) - l1*sin(phi(t)) - l2*sin(phi(t) - theta0(t)) - l2*sin(-phi(t) + theta0(t) + theta1(t) + theta2(t)) + l3*cos(-phi(t) + theta0(t) + theta1(t));\n",
      "   out_7040956801295068946[10] = l2*cos(phi(t) - theta0(t)) - 1.0L/2.0L*l3*sin(-phi(t) + theta0(t) + theta1(t));\n",
      "   out_7040956801295068946[11] = -1.0L/2.0L*l3*sin(-phi(t) + theta0(t) + theta1(t));\n",
      "   out_7040956801295068946[12] = 0;\n",
      "   out_7040956801295068946[13] = 0;\n",
      "   out_7040956801295068946[14] = -l1*cos(phi(t)) - l2*cos(phi(t) - theta0(t)) + (1.0L/2.0L)*l3*sin(-phi(t) + theta0(t) + theta1(t));\n",
      "   out_7040956801295068946[15] = l2*sin(phi(t) - theta0(t)) - 1.0L/2.0L*l3*cos(-phi(t) + theta0(t) + theta1(t));\n",
      "   out_7040956801295068946[16] = -1.0L/2.0L*l3*cos(-phi(t) + theta0(t) + theta1(t));\n",
      "   out_7040956801295068946[17] = 0;\n",
      "   out_7040956801295068946[18] = 0;\n",
      "   out_7040956801295068946[19] = -l1*sin(phi(t)) - l2*sin(phi(t) - theta0(t)) + (1.0L/2.0L)*l3*cos(-phi(t) + theta0(t) + theta1(t));\n",
      "}\n",
      "void ankle_right_hip_center(double *out_916151544320618253) {\n",
      "   out_916151544320618253[0] = -l1*sin(-phi(t) + theta0(t) + theta1(t) + theta2(t) + theta3(t)) - l1*sin(phi(t)) - l2*sin(phi(t) - theta0(t)) - l2*sin(-phi(t) + theta0(t) + theta1(t) + theta2(t)) + l3*cos(-phi(t) + theta0(t) + theta1(t));\n",
      "   out_916151544320618253[1] = -l1*cos(-phi(t) + theta0(t) + theta1(t) + theta2(t) + theta3(t)) + l1*cos(phi(t)) + l2*cos(phi(t) - theta0(t)) - l2*cos(-phi(t) + theta0(t) + theta1(t) + theta2(t)) - l3*sin(-phi(t) + theta0(t) + theta1(t));\n",
      "   out_916151544320618253[2] = -l1*sin(phi(t)) - l2*sin(phi(t) - theta0(t)) + (1.0L/2.0L)*l3*cos(-phi(t) + theta0(t) + theta1(t));\n",
      "   out_916151544320618253[3] = l1*cos(phi(t)) + l2*cos(phi(t) - theta0(t)) - 1.0L/2.0L*l3*sin(-phi(t) + theta0(t) + theta1(t));\n",
      "}\n",
      "void ankle_left(double *out_8826841557315653786) {\n",
      "   out_8826841557315653786[0] = 0;\n",
      "   out_8826841557315653786[1] = 0;\n",
      "   out_8826841557315653786[2] = 0;\n",
      "}\n",
      "void knee_left(double *out_2247889337447503075) {\n",
      "   out_2247889337447503075[0] = -l1*sin(phi(t));\n",
      "   out_2247889337447503075[1] = l1*cos(phi(t));\n",
      "   out_2247889337447503075[2] = 0;\n",
      "}\n",
      "void hip_left(double *out_9064110474024648940) {\n",
      "   out_9064110474024648940[0] = -l1*sin(phi(t)) - l2*sin(phi(t) - theta0(t));\n",
      "   out_9064110474024648940[1] = l1*cos(phi(t)) + l2*cos(phi(t) - theta0(t));\n",
      "   out_9064110474024648940[2] = 0;\n",
      "}\n",
      "void hip_center(double *out_659177576507600807) {\n",
      "   out_659177576507600807[0] = -l1*sin(phi(t)) - l2*sin(phi(t) - theta0(t)) + (1.0L/2.0L)*l3*cos(-phi(t) + theta0(t) + theta1(t));\n",
      "   out_659177576507600807[1] = l1*cos(phi(t)) + l2*cos(phi(t) - theta0(t)) - 1.0L/2.0L*l3*sin(-phi(t) + theta0(t) + theta1(t));\n",
      "   out_659177576507600807[2] = 0;\n",
      "}\n",
      "void hip_right(double *out_8420808845996663653) {\n",
      "   out_8420808845996663653[0] = -l1*sin(phi(t)) - l2*sin(phi(t) - theta0(t)) + l3*cos(-phi(t) + theta0(t) + theta1(t));\n",
      "   out_8420808845996663653[1] = l1*cos(phi(t)) + l2*cos(phi(t) - theta0(t)) - l3*sin(-phi(t) + theta0(t) + theta1(t));\n",
      "   out_8420808845996663653[2] = 0;\n",
      "}\n",
      "void knee_right(double *out_2877649314090428462) {\n",
      "   out_2877649314090428462[0] = -l1*sin(phi(t)) - l2*sin(phi(t) - theta0(t)) - l2*sin(-phi(t) + theta0(t) + theta1(t) + theta2(t)) + l3*cos(-phi(t) + theta0(t) + theta1(t));\n",
      "   out_2877649314090428462[1] = l1*cos(phi(t)) + l2*cos(phi(t) - theta0(t)) - l2*cos(-phi(t) + theta0(t) + theta1(t) + theta2(t)) - l3*sin(-phi(t) + theta0(t) + theta1(t));\n",
      "   out_2877649314090428462[2] = 0;\n",
      "}\n",
      "void ankle_right(double *out_8643290169570541467) {\n",
      "   out_8643290169570541467[0] = -l1*sin(-phi(t) + theta0(t) + theta1(t) + theta2(t) + theta3(t)) - l1*sin(phi(t)) - l2*sin(phi(t) - theta0(t)) - l2*sin(-phi(t) + theta0(t) + theta1(t) + theta2(t)) + l3*cos(-phi(t) + theta0(t) + theta1(t));\n",
      "   out_8643290169570541467[1] = -l1*cos(-phi(t) + theta0(t) + theta1(t) + theta2(t) + theta3(t)) + l1*cos(phi(t)) + l2*cos(phi(t) - theta0(t)) - l2*cos(-phi(t) + theta0(t) + theta1(t) + theta2(t)) - l3*sin(-phi(t) + theta0(t) + theta1(t));\n",
      "   out_8643290169570541467[2] = 0;\n",
      "}\n",
      "\n"
     ]
    }
   ],
   "source": [
    "t = symbols('t')\n",
    "a0 = ankle_left.pos_from(origin).express(inertial_frame).simplify().to_matrix(inertial_frame)\n",
    "k0 = knee_left.pos_from(origin).express(inertial_frame).simplify().to_matrix(inertial_frame)\n",
    "hl = hip_left.pos_from(origin).express(inertial_frame).simplify().to_matrix(inertial_frame)\n",
    "hc = hip_center.pos_from(origin).express(inertial_frame).simplify().to_matrix(inertial_frame)\n",
    "hr = hip_right.pos_from(origin).express(inertial_frame).simplify().to_matrix(inertial_frame)\n",
    "k1 = knee_right.pos_from(origin).express(inertial_frame).simplify().to_matrix(inertial_frame)\n",
    "a1 = ankle_right.pos_from(origin).express(inertial_frame).simplify().to_matrix(inertial_frame)\n",
    "[(c_name, c_code), (h_name, c_header)] = codegen( \n",
    "    [(\"Jacobian\",J), \n",
    "     (\"ankle_right_hip_center\",F2), \n",
    "     (\"ankle_left\", a0),\n",
    "     (\"knee_left\", k0),\n",
    "     (\"hip_left\", hl),\n",
    "     (\"hip_center\", hc),\n",
    "     (\"hip_right\", hr),\n",
    "     (\"knee_right\", k1),\n",
    "     (\"ankle_right\",a1)\n",
    "    ] ,\n",
    "    \"C\", \"PaBiRoboy_DanceControl\", project='PaBiRoboy_DanceControl',global_vars=(t,lower_leg_length, upper_leg_length, hip_length, theta0,theta1,theta2,theta3), \n",
    "    header=True, empty=False)\n",
    "print(c_code)"
   ]
  },
  {
   "cell_type": "code",
   "execution_count": null,
   "metadata": {
    "collapsed": true
   },
   "outputs": [],
   "source": []
  }
 ],
 "metadata": {
  "kernelspec": {
   "display_name": "Python 2",
   "language": "python",
   "name": "python2"
  },
  "language_info": {
   "codemirror_mode": {
    "name": "ipython",
    "version": 2
   },
   "file_extension": ".py",
   "mimetype": "text/x-python",
   "name": "python",
   "nbconvert_exporter": "python",
   "pygments_lexer": "ipython2",
   "version": "2.7.13"
  }
 },
 "nbformat": 4,
 "nbformat_minor": 2
}
